{
 "cells": [
  {
   "cell_type": "markdown",
   "metadata": {},
   "source": [
    "<a name=\"top\"></a><img src=\"images/chisel_1024.png\" alt=\"Chisel logo\" style=\"width:480px;\" />"
   ]
  },
  {
   "cell_type": "markdown",
   "metadata": {},
   "source": [
    "# Module 3.1: Generators: Parameters\n",
    "**Prev: [ChiselTest (was chisel-testers2)](2.6_chiseltest.ipynb)**<br>\n",
    "**Next: [Generators: Collections](3.2_collections.ipynb)**\n",
    "\n",
    "## Motivation\n",
    "对于 Chisel 模块来说，要成为代码生成器，必须有一些东西告诉生成器它应该如何完成工作。在本节中，我们讨论模块参数化、各种方法和 Scala 语言特性。参数传递实现的丰富性与生成电路的丰富性成正比。参数应提供有用的默认值，易于设置，并能防止非法或无意义的值。对于更复杂的系统，如果参数能够在本地被覆盖而不会无意中影响其他模块的使用，将会非常有用。\n",
    "\n",
    "## Setup"
   ]
  },
  {
   "cell_type": "code",
   "execution_count": null,
   "metadata": {},
   "outputs": [],
   "source": [
    "val path = System.getProperty(\"user.dir\") + \"/source/load-ivy.sc\"\n",
    "interp.load.module(ammonite.ops.Path(java.nio.file.FileSystems.getDefault().getPath(path)))"
   ]
  },
  {
   "cell_type": "code",
   "execution_count": null,
   "metadata": {},
   "outputs": [],
   "source": [
    "import chisel3._\n",
    "import chisel3.util._\n",
    "import chisel3.tester._\n",
    "import chisel3.tester.RawTester.test"
   ]
  },
  {
   "cell_type": "markdown",
   "metadata": {},
   "source": [
    "---\n",
    "\n",
    "# 参数传递\n",
    "Chisel 提供了强大的构造用于编写硬件生成器。生成器是一些程序，它们接受一些电路参数并生成电路描述。在本节中，我们将从讨论 Chisel 生成器如何获取它们的参数开始。\n",
    "\n",
    "<span style=\"color:blue\">**Example: Parameterized Scala Object**</span><br>\n",
    "每个 Chisel `Module` 都是一个普通的 Scala 类。回想一下，Scala 类可以像这样进行参数化："
   ]
  },
  {
   "cell_type": "code",
   "execution_count": null,
   "metadata": {},
   "outputs": [],
   "source": [
    "class ParameterizedScalaObject(param1: Int, param2: String) {\n",
    "  println(s\"I have parameters: param1 = $param1 and param2 = $param2\")\n",
    "}\n",
    "val obj1 = new ParameterizedScalaObject(4,     \"Hello\")\n",
    "val obj2 = new ParameterizedScalaObject(4 + 2, \"World\")"
   ]
  },
  {
   "cell_type": "markdown",
   "metadata": {},
   "source": [
    "<span style=\"color:blue\">**Example: Parameterized Chisel Object**</span><br>\n",
    "Chisel 模块可以以相同的方式进行参数化。以下模块具有所有输入和输出的宽度参数。运行代码块将生成 Verilog。尝试更改参数并检查输出是否反映了新参数。"
   ]
  },
  {
   "cell_type": "code",
   "execution_count": null,
   "metadata": {},
   "outputs": [],
   "source": [
    "class ParameterizedWidthAdder(in0Width: Int, in1Width: Int, sumWidth: Int) extends Module {\n",
    "  require(in0Width >= 0)\n",
    "  require(in1Width >= 0)\n",
    "  require(sumWidth >= 0)\n",
    "  val io = IO(new Bundle {\n",
    "    val in0 = Input(UInt(in0Width.W))\n",
    "    val in1 = Input(UInt(in1Width.W))\n",
    "    val sum = Output(UInt(sumWidth.W))\n",
    "  })\n",
    "  // a +& b includes the carry, a + b does not\n",
    "  io.sum := io.in0 +& io.in1\n",
    "}\n",
    "\n",
    "println(getVerilog(new ParameterizedWidthAdder(1, 4, 6)))"
   ]
  },
  {
   "cell_type": "markdown",
   "metadata": {},
   "source": [
    "上面的代码块包含一些 `require(...)` 语句。这些是预编译断言，当你的生成器仅在某些参数化条件下工作或某些参数化条件相互排斥或无意义时，它们非常有用。上面的代码块检查宽度是否为非负数。\n",
    "\n",
    "有一个单独的结构用于仿真时的断言，称为 `assert(...)`。\n",
    "\n",
    "## 使用参数化模块进行排序\n",
    "以下代码块是一个类似于模块 2.3 中 `Sort4` 的参数化排序。与之前具有参数化宽度 IO 的加法器示例不同，此示例具有固定 IO。参数控制在模块内部生成的硬件。\n",
    "![Sort4](images/Sorter4.png)\n",
    "<span style=\"color:blue\">**Example: Parameterized 4-Input Sort**</span><br>\n",
    "与 2.3 不同，此实现参数化为降序或升序排序。"
   ]
  },
  {
   "cell_type": "code",
   "execution_count": null,
   "metadata": {},
   "outputs": [],
   "source": [
    "/** Sort4 sorts its 4 inputs to its 4 outputs */\n",
    "class Sort4(ascending: Boolean) extends Module {\n",
    "  val io = IO(new Bundle {\n",
    "    val in0 = Input(UInt(16.W))\n",
    "    val in1 = Input(UInt(16.W))\n",
    "    val in2 = Input(UInt(16.W))\n",
    "    val in3 = Input(UInt(16.W))\n",
    "    val out0 = Output(UInt(16.W))\n",
    "    val out1 = Output(UInt(16.W))\n",
    "    val out2 = Output(UInt(16.W))\n",
    "    val out3 = Output(UInt(16.W))\n",
    "  })\n",
    "    \n",
    "  // this comparison funtion decides < or > based on the module's parameterization\n",
    "  def comp(l: UInt, r: UInt): Bool = {\n",
    "      if (ascending) {\n",
    "        l < r\n",
    "      } else {\n",
    "        l > r\n",
    "    }\n",
    "  }\n",
    "\n",
    "  val row10 = Wire(UInt(16.W))\n",
    "  val row11 = Wire(UInt(16.W))\n",
    "  val row12 = Wire(UInt(16.W))\n",
    "  val row13 = Wire(UInt(16.W))\n",
    "\n",
    "  when(comp(io.in0, io.in1)) {\n",
    "    row10 := io.in0            // preserve first two elements\n",
    "    row11 := io.in1\n",
    "  }.otherwise {\n",
    "    row10 := io.in1            // swap first two elements\n",
    "    row11 := io.in0\n",
    "  }\n",
    "\n",
    "  when(comp(io.in2, io.in3)) {\n",
    "    row12 := io.in2            // preserve last two elements\n",
    "    row13 := io.in3\n",
    "  }.otherwise {\n",
    "    row12 := io.in3            // swap last two elements\n",
    "    row13 := io.in2\n",
    "  }\n",
    "\n",
    "  val row21 = Wire(UInt(16.W))\n",
    "  val row22 = Wire(UInt(16.W))\n",
    "\n",
    "  when(comp(row11, row12)) {\n",
    "    row21 := row11            // preserve middle 2 elements\n",
    "    row22 := row12\n",
    "  }.otherwise {\n",
    "    row21 := row12            // swap middle two elements\n",
    "    row22 := row11\n",
    "  }\n",
    "\n",
    "  val row20 = Wire(UInt(16.W))\n",
    "  val row23 = Wire(UInt(16.W))\n",
    "  when(comp(row10, row13)) {\n",
    "    row20 := row10            // preserve the first and the forth elements\n",
    "    row23 := row13\n",
    "  }.otherwise {\n",
    "    row20 := row13            // swap the first and the forth elements\n",
    "    row23 := row10\n",
    "  }\n",
    "\n",
    "  when(comp(row20, row21)) {\n",
    "    io.out0 := row20            // preserve first two elements\n",
    "    io.out1 := row21\n",
    "  }.otherwise {\n",
    "    io.out0 := row21            // swap first two elements\n",
    "    io.out1 := row20\n",
    "  }\n",
    "\n",
    "  when(comp(row22, row23)) {\n",
    "    io.out2 := row22            // preserve first two elements\n",
    "    io.out3 := row23\n",
    "  }.otherwise {\n",
    "    io.out2 := row23            // swap first two elements\n",
    "    io.out3 := row22\n",
    "  }\n",
    "}\n",
    "\n",
    "\n",
    "\n",
    "// Here are the testers\n",
    "test(new Sort4(true)) { c => \n",
    "  c.io.in0.poke(3.U)\n",
    "  c.io.in1.poke(6.U)\n",
    "  c.io.in2.poke(9.U)\n",
    "  c.io.in3.poke(12.U)\n",
    "  c.io.out0.expect(3.U)\n",
    "  c.io.out1.expect(6.U)\n",
    "  c.io.out2.expect(9.U)\n",
    "  c.io.out3.expect(12.U)\n",
    "\n",
    "  c.io.in0.poke(13.U)\n",
    "  c.io.in1.poke(4.U)\n",
    "  c.io.in2.poke(6.U)\n",
    "  c.io.in3.poke(1.U)\n",
    "  c.io.out0.expect(1.U)\n",
    "  c.io.out1.expect(4.U)\n",
    "  c.io.out2.expect(6.U)\n",
    "  c.io.out3.expect(13.U)\n",
    "\n",
    "  c.io.in0.poke(13.U)\n",
    "  c.io.in1.poke(6.U)\n",
    "  c.io.in2.poke(4.U)\n",
    "  c.io.in3.poke(1.U)\n",
    "  c.io.out0.expect(1.U)\n",
    "  c.io.out1.expect(4.U)\n",
    "  c.io.out2.expect(6.U)\n",
    "  c.io.out3.expect(13.U)\n",
    "}\n",
    "test(new Sort4(false)) { c =>\n",
    "  c.io.in0.poke(3.U)\n",
    "  c.io.in1.poke(6.U)\n",
    "  c.io.in2.poke(9.U)\n",
    "  c.io.in3.poke(12.U)\n",
    "  c.io.out0.expect(12.U)\n",
    "  c.io.out1.expect(9.U)\n",
    "  c.io.out2.expect(6.U)\n",
    "  c.io.out3.expect(3.U)\n",
    "\n",
    "  c.io.in0.poke(13.U)\n",
    "  c.io.in1.poke(4.U)\n",
    "  c.io.in2.poke(6.U)\n",
    "  c.io.in3.poke(1.U)\n",
    "  c.io.out0.expect(13.U)\n",
    "  c.io.out1.expect(6.U)\n",
    "  c.io.out2.expect(4.U)\n",
    "  c.io.out3.expect(1.U)\n",
    "\n",
    "  c.io.in0.poke(1.U)\n",
    "  c.io.in1.poke(6.U)\n",
    "  c.io.in2.poke(4.U)\n",
    "  c.io.in3.poke(13.U)\n",
    "  c.io.out0.expect(13.U)\n",
    "  c.io.out1.expect(6.U)\n",
    "  c.io.out2.expect(4.U)\n",
    "  c.io.out3.expect(1.U)\n",
    "}\n",
    "println(\"SUCCESS!!\") // Scala Code: if we get here, our tests passed!"
   ]
  },
  {
   "cell_type": "markdown",
   "metadata": {},
   "source": [
    "---\n",
    "# Option and Default Arguments\n",
    "\n",
    "有时一个函数有时返回一个值，有时则不返回值。Scala 有一种机制可以在类型系统中对这种情况进行编码，而不是在无法返回值时抛出错误。\n",
    "\n",
    "<span style=\"color:blue\">**示例：错误的 Map 索引调用**</span><br>\n",
    "在下面的示例中，我们有一个包含多个键/值对的 map。如果我们尝试访问缺失的键/值对，则会遇到运行时错误："
   ]
  },
  {
   "cell_type": "code",
   "execution_count": null,
   "metadata": {},
   "outputs": [],
   "source": [
    "val map = Map(\"a\" -> 1)\n",
    "val a = map(\"a\")\n",
    "println(a)\n",
    "val b = map(\"b\")\n",
    "println(b)"
   ]
  },
  {
   "cell_type": "markdown",
   "metadata": {},
   "source": [
    "<span style=\"color:blue\">**示例：获取不确定的索引**</span><br>\n",
    "然而，`Map` 提供了另一种通过 **get** 方法访问键值的方式。使用此方法返回抽象类 `Option` 的值。`Option` 有两个子类，`Some` 和 `None`。"
   ]
  },
  {
   "cell_type": "code",
   "execution_count": null,
   "metadata": {},
   "outputs": [],
   "source": [
    "val map = Map(\"a\" -> 1)\n",
    "val a = map.get(\"a\")\n",
    "println(a)\n",
    "val b = map.get(\"b\")\n",
    "println(b)"
   ]
  },
  {
   "cell_type": "markdown",
   "metadata": {},
   "source": [
    "如你将在后面的章节中看到的，`Option` 非常重要，因为它允许用户使用 match 语句来检查 Scala 类型和值。\n",
    "\n",
    "<span style=\"color:blue\">**示例：获取或其他！**</span><br>\n",
    "像 `Map` 一样，`Option` 也有一个 `get` 方法，如果在 `None` 上调用它会出错。在这些情况下，我们可以使用 **`getOrElse`** 提供一个默认值。"
   ]
  },
  {
   "cell_type": "code",
   "execution_count": null,
   "metadata": {},
   "outputs": [],
   "source": [
    "val some = Some(1)\n",
    "val none = None\n",
    "println(some.get)          // Returns 1\n",
    "// println(none.get)       // Errors!\n",
    "println(some.getOrElse(2)) // Returns 1\n",
    "println(none.getOrElse(2)) // Returns 2"
   ]
  },
  {
   "cell_type": "markdown",
   "metadata": {},
   "source": [
    "## Options for Parameters with Defaults\n",
    "\n",
    "当对象或函数有很多参数时，始终完全指定它们可能既繁琐又容易出错。在模块 1 中，你已经了解了命名参数和参数默认值。有时，参数没有一个好的默认值。在这些情况下，可以使用 `Option` 并将其默认值设置为 `None`。\n",
    "\n",
    "<span style=\"color:blue\">**示例：可选复位**</span><br>\n",
    "以下显示了一个将输入延迟一个时钟周期的代码块。如果 `resetValue = None`（这是默认值），则寄存器将没有复位值，并被初始化为垃圾。这避免了使用超出正常范围的值来表示“无”的常见但丑陋的情况，例如使用 -1 作为复位值来表示此寄存器不复位。"
   ]
  },
  {
   "cell_type": "code",
   "execution_count": null,
   "metadata": {},
   "outputs": [],
   "source": [
    "class DelayBy1(resetValue: Option[UInt] = None) extends Module {\n",
    "    val io = IO(new Bundle {\n",
    "        val in  = Input( UInt(16.W))\n",
    "        val out = Output(UInt(16.W))\n",
    "    })\n",
    "    val reg = if (resetValue.isDefined) { // resetValue = Some(number)\n",
    "        RegInit(resetValue.get)\n",
    "    } else { //resetValue = None\n",
    "        Reg(UInt())\n",
    "    }\n",
    "    reg := io.in\n",
    "    io.out := reg\n",
    "}\n",
    "\n",
    "println(getVerilog(new DelayBy1))\n",
    "println(getVerilog(new DelayBy1(Some(3.U))))"
   ]
  },
  {
   "cell_type": "markdown",
   "metadata": {},
   "source": [
    "---\n",
    "# Match/Case Statements\n",
    "Scala 的 *matching* 概念在 Chisel 中被广泛使用，需要成为任何 Chisel 程序员的基本理解的一部分。Scala 提供了 match 操作符，它支持：\n",
    "- 简单的替代测试，有点类似于 C 的 *switch* 语句\n",
    "- 对值的临时组合进行更复杂的测试\n",
    "- 根据变量类型未知或不确定时的类型采取行动，例如当\n",
    "  - 变量来自异构列表 ```val mixedList = List(1, \"string\", false)```\n",
    "  - 或者变量被认为是超类的成员但不是特定子类的成员\n",
    "- 提取用 *正则表达式* 指定的字符串子串\n",
    "\n",
    "<span style=\"color:blue\">**示例：值匹配**</span><br>\n",
    "以下示例中，根据我们 **match** 的变量的 **值**，执行不同的 **case** 语句："
   ]
  },
  {
   "cell_type": "code",
   "execution_count": null,
   "metadata": {},
   "outputs": [],
   "source": [
    "// y is an integer variable defined somewhere else in the code\n",
    "val y = 7\n",
    "/// ...\n",
    "val x = y match {\n",
    "  case 0 => \"zero\" // One common syntax, preferred if fits in one line\n",
    "  case 1 =>        // Another common syntax, preferred if does not fit in one line.\n",
    "      \"one\"        // Note the code block continues until the next case\n",
    "  case 2 => {      // Another syntax, but curly braces are not required\n",
    "      \"two\"\n",
    "  }\n",
    "  case _ => \"many\" // _ is a wildcard that matches all values\n",
    "}\n",
    "println(\"y is \" + x)"
   ]
  },
  {
   "cell_type": "markdown",
   "metadata": {},
   "source": [
    "match 操作符检查可能的值，并为每个 case 返回一个字符串。有几点需要注意：\n",
    "- 跟随 `=>` 操作符的每个代码块会继续执行，直到到达 match 的结束括号或下一个 case 语句。\n",
    "- match 按照 case 语句的顺序进行搜索，一旦匹配到一个 case 语句，不再检查其他 case 语句。\n",
    "- 使用下划线作为通配符，处理未找到的任何值。\n",
    "\n",
    "<span style=\"color:blue\">**示例：多值匹配**</span><br>\n",
    "此外，可以同时匹配多个变量。以下是使用 match 语句和值元组实现的真值表的一个简单示例："
   ]
  },
  {
   "cell_type": "code",
   "execution_count": null,
   "metadata": {},
   "outputs": [],
   "source": [
    "def animalType(biggerThanBreadBox: Boolean, meanAsCanBe: Boolean): String = {\n",
    "  (biggerThanBreadBox, meanAsCanBe) match {\n",
    "    case (true, true) => \"wolverine\"\n",
    "    case (true, false) => \"elephant\"\n",
    "    case (false, true) => \"shrew\"\n",
    "    case (false, false) => \"puppy\"\n",
    "  }\n",
    "}\n",
    "println(animalType(true, true))"
   ]
  },
  {
   "cell_type": "markdown",
   "metadata": {},
   "source": [
    "<span style=\"color:blue\">**示例：类型匹配**</span><br>\n",
    "Scala 是一种强类型语言，因此在运行时所有对象的类型都是已知的。我们可以使用 **match 语句** 利用这些类型信息来控制流程："
   ]
  },
  {
   "cell_type": "code",
   "execution_count": null,
   "metadata": {},
   "outputs": [],
   "source": [
    "val sequence = Seq(\"a\", 1, 0.0)\n",
    "sequence.foreach { x =>\n",
    "  x match {\n",
    "    case s: String => println(s\"$x is a String\")\n",
    "    case s: Int    => println(s\"$x is an Int\")\n",
    "    case s: Double => println(s\"$x is a Double\")\n",
    "    case _ => println(s\"$x is an unknown type!\")\n",
    "  }\n",
    "}"
   ]
  },
  {
   "cell_type": "markdown",
   "metadata": {},
   "source": [
    "<span style=\"color:blue\">**示例：多类型匹配**</span><br>\n",
    "如果要匹配一个值是否具有多种类型之一，请使用以下语法。*注意，在匹配时**必须**使用 `_`。*"
   ]
  },
  {
   "cell_type": "code",
   "execution_count": null,
   "metadata": {},
   "outputs": [],
   "source": [
    "val sequence = Seq(\"a\", 1, 0.0)\n",
    "sequence.foreach { x =>\n",
    "  x match {\n",
    "    case _: Int | _: Double => println(s\"$x is a number!\")\n",
    "    case _ => println(s\"$x is an unknown type!\")\n",
    "  }\n",
    "}"
   ]
  },
  {
   "cell_type": "markdown",
   "metadata": {},
   "source": [
    "<span style=\"color:blue\">**示例：类型匹配和擦除**</span><br>\n",
    "类型匹配有一些限制。由于 Scala 运行在 JVM 上，而 JVM 不维护多态类型，因此你不能在运行时匹配它们（因为它们都被擦除了）。请注意，以下示例总是匹配第一个 case 语句，因为 `[String]`、`[Int]` 和 `[Double]` 多态类型被擦除，case 语句**实际上**只是匹配一个 `Seq`。"
   ]
  },
  {
   "cell_type": "code",
   "execution_count": null,
   "metadata": {},
   "outputs": [],
   "source": [
    "val sequence = Seq(Seq(\"a\"), Seq(1), Seq(0.0))\n",
    "sequence.foreach { x =>\n",
    "  x match {\n",
    "    case s: Seq[String] => println(s\"$x is a String\")\n",
    "    case s: Seq[Int]    => println(s\"$x is an Int\")\n",
    "    case s: Seq[Double] => println(s\"$x is a Double\")\n",
    "  }\n",
    "}"
   ]
  },
  {
   "cell_type": "markdown",
   "metadata": {},
   "source": [
    "请注意，如果你实现像上面示例那样的代码，Scala 编译器通常会发出警告。\n",
    "\n",
    "（译者添加）要正确匹配类型，可以通过检查序列中元素的具体类型来实现。以下是改进的代码："
   ]
  },
  {
   "cell_type": "code",
   "execution_count": null,
   "metadata": {},
   "outputs": [],
   "source": [
    "val sequence = Seq(Seq(\"a\"), Seq(1), Seq(0.0))\n",
    "sequence.foreach { x =>\n",
    "  x.headOption match {\n",
    "    case Some(_: String) => println(s\"$x is a Seq of String\")\n",
    "    case Some(_: Int)    => println(s\"$x is a Seq of Int\")\n",
    "    case Some(_: Double) => println(s\"$x is a Seq of Double\")\n",
    "    case _               => println(s\"$x is an unknown type!\")\n",
    "  }\n",
    "}"
   ]
  },
  {
   "cell_type": "markdown",
   "metadata": {},
   "source": [
    "在这个改进的代码中：\n",
    "\n",
    "- headOption 方法：获取序列中的第一个元素并返回一个 Option，如果序列为空，则返回 None。\n",
    "- 显式类型检查：通过模式匹配检查 headOption 返回的 Option 的内容类型。这避免了类型擦除的问题，因为我们检查的是具体元素的类型，而不是泛型类型。\n",
    "\n",
    "<span style=\"color:blue\">**示例：可选复位匹配**</span><br>\n",
    "下面的代码块显示了使用 match 结构而不是 `if/else` 的相同 `DelayBy1` 模块。"
   ]
  },
  {
   "cell_type": "code",
   "execution_count": null,
   "metadata": {},
   "outputs": [],
   "source": [
    "class DelayBy1(resetValue: Option[UInt] = None) extends Module {\n",
    "  val io = IO(new Bundle {\n",
    "    val in  = Input( UInt(16.W))\n",
    "    val out = Output(UInt(16.W))\n",
    "  })\n",
    "  val reg = resetValue match {\n",
    "    case Some(r) => RegInit(r)\n",
    "    case None    => Reg(UInt())\n",
    "  }\n",
    "  reg := io.in\n",
    "  io.out := reg\n",
    "}\n",
    "\n",
    "println(getVerilog(new DelayBy1))\n",
    "println(getVerilog(new DelayBy1(Some(3.U))))"
   ]
  },
  {
   "cell_type": "markdown",
   "metadata": {},
   "source": [
    "---\n",
    "# IOs with Optional Fields\n",
    "\n",
    "有时我们希望 IO 是可选包含或排除的。也许有一些内部状态在调试时查看会很好，但当生成器在系统中使用时你希望隐藏它。也许你的生成器有一些输入不需要在每种情况下都连接，因为有一个合理的默认值。\n",
    "\n",
    "<span style=\"color:blue\">**示例：带有 Option 的可选 IO**</span><br>\n",
    "可选的 bundle 字段是一种实现此功能的方法。在下面的示例中，我们展示了一个一位加法器，它可以选择性地接收一个进位。如果包含进位，`io.carryIn` 将具有 `Some[UInt]` 类型，并包含在 IO bundle 中。如果不包含进位，`io.carryIn` 将具有 `None` 类型，并将被排除在 IO bundle 之外。"
   ]
  },
  {
   "cell_type": "code",
   "execution_count": null,
   "metadata": {},
   "outputs": [],
   "source": [
    "class HalfFullAdder(val hasCarry: Boolean) extends Module {\n",
    "  val io = IO(new Bundle {\n",
    "    val a = Input(UInt(1.W))\n",
    "    val b = Input(UInt(1.W))\n",
    "    val carryIn = if (hasCarry) Some(Input(UInt(1.W))) else None\n",
    "    val s = Output(UInt(1.W))\n",
    "    val carryOut = Output(UInt(1.W))\n",
    "  })\n",
    "  val sum = io.a +& io.b +& io.carryIn.getOrElse(0.U)\n",
    "  io.s := sum(0)\n",
    "  io.carryOut := sum(1)\n",
    "}\n",
    "\n",
    "test(new HalfFullAdder(false)) { c =>\n",
    "  require(!c.hasCarry, \"DUT must be half adder\")\n",
    "  // 0 + 0 = 0\n",
    "  c.io.a.poke(0.U)\n",
    "  c.io.b.poke(0.U)\n",
    "  c.io.s.expect(0.U)\n",
    "  c.io.carryOut.expect(0.U)\n",
    "  // 0 + 1 = 1\n",
    "  c.io.b.poke(1.U)\n",
    "  c.io.s.expect(1.U)\n",
    "  c.io.carryOut.expect(0.U)\n",
    "  // 1 + 1 = 2\n",
    "  c.io.a.poke(1.U)\n",
    "  c.io.s.expect(0.U)\n",
    "  c.io.carryOut.expect(1.U)\n",
    "  // 1 + 0 = 1\n",
    "  c.io.b.poke(0.U)\n",
    "  c.io.s.expect(1.U)\n",
    "  c.io.carryOut.expect(0.U)\n",
    "}\n",
    "\n",
    "test(new HalfFullAdder(true)) { c =>\n",
    "  require(c.hasCarry, \"DUT must be half adder\")\n",
    "  c.io.carryIn.get.poke(0.U)\n",
    "  // 0 + 0 + 0 = 0\n",
    "  c.io.a.poke(0.U)\n",
    "  c.io.b.poke(0.U)\n",
    "  c.io.s.expect(0.U)\n",
    "  c.io.carryOut.expect(0.U)\n",
    "  // 0 + 0 + 1 = 1\n",
    "  c.io.b.poke(1.U)\n",
    "  c.io.s.expect(1.U)\n",
    "  c.io.carryOut.expect(0.U)\n",
    "  // 0 + 1 + 1 = 2\n",
    "  c.io.a.poke(1.U)\n",
    "  c.io.s.expect(0.U)\n",
    "  c.io.carryOut.expect(1.U)\n",
    "  // 0 + 1 + 0 = 1\n",
    "  c.io.b.poke(0.U)\n",
    "  c.io.s.expect(1.U)\n",
    "  c.io.carryOut.expect(0.U)\n",
    "\n",
    "  c.io.carryIn.get.poke(1.U)\n",
    "  // 1 + 0 + 0 = 1\n",
    "  c.io.a.poke(0.U)\n",
    "  c.io.b.poke(0.U)\n",
    "  c.io.s.expect(1.U)\n",
    "  c.io.carryOut.expect(0.U)\n",
    "  // 1 + 0 + 1 = 2\n",
    "  c.io.b.poke(1.U)\n",
    "  c.io.s.expect(0.U)\n",
    "  c.io.carryOut.expect(1.U)\n",
    "  // 1 + 1 + 1 = 3\n",
    "  c.io.a.poke(1.U)\n",
    "  c.io.s.expect(1.U)\n",
    "  c.io.carryOut.expect(1.U)\n",
    "  // 1 + 1 + 0 = 2\n",
    "  c.io.b.poke(0.U)\n",
    "  c.io.s.expect(0.U)\n",
    "  c.io.carryOut.expect(1.U)\n",
    "}\n",
    "\n",
    "println(\"SUCCESS!!\") // Scala Code: if we get here, our tests passed!"
   ]
  },
  {
   "cell_type": "markdown",
   "metadata": {},
   "source": [
    "<span style=\"color:blue\">**示例：带有零宽度导线的可选 IO**</span><br>\n",
    "实现与 `Option` 类似功能的另一种方法是使用零宽度导线。Chisel 类型允许具有零宽度。宽度为零的 IO 会在生成的 Verilog 中被修剪掉，任何尝试使用零宽度导线值的操作都会得到一个常量零。如果零是一个合理的默认值，零宽度导线非常好，因为它们不需要对 `Option` 进行匹配或调用 `getOrElse`。"
   ]
  },
  {
   "cell_type": "code",
   "execution_count": null,
   "metadata": {},
   "outputs": [],
   "source": [
    "class HalfFullAdder(val hasCarry: Boolean) extends Module {\n",
    "  val io = IO(new Bundle {\n",
    "    val a = Input(UInt(1.W))\n",
    "    val b = Input(UInt(1.W))\n",
    "    val carryIn = Input(if (hasCarry) UInt(1.W) else UInt(0.W))\n",
    "    val s = Output(UInt(1.W))\n",
    "    val carryOut = Output(UInt(1.W))\n",
    "  })\n",
    "  val sum = io.a +& io.b +& io.carryIn\n",
    "  io.s := sum(0)\n",
    "  io.carryOut := sum(1)\n",
    "}\n",
    "println(\"Half Adder:\")\n",
    "println(getVerilog(new HalfFullAdder(false)))\n",
    "println(\"\\n\\nFull Adder:\")\n",
    "println(getVerilog(new HalfFullAdder(true)))"
   ]
  },
  {
   "cell_type": "markdown",
   "metadata": {},
   "source": [
    "---\n",
    "# Implicits\n",
    "编程时常常需要大量的样板代码。为了解决这种情况，Scala 引入了 **implicits** 的概念，它允许编译器为你做一些语法糖处理。由于很多事情都在幕后发生，implicits 看起来非常神奇。本节通过一些基本示例来解释它们是什么以及它们常用的地方。\n",
    "\n",
    "## Implicit Arguments\n",
    "有时，你的代码需要从一系列函数调用的深处访问某种顶层变量。与其手动通过每个函数调用传递此变量，不如使用 implicit 参数来为你完成这项工作。\n",
    "\n",
    "<span style=\"color:blue\">**示例：隐式 Cats**</span><br>\n",
    "在下面的示例中，我们可以隐式或显式地传递猫的数量。"
   ]
  },
  {
   "cell_type": "code",
   "execution_count": null,
   "metadata": {},
   "outputs": [],
   "source": [
    "object CatDog {\n",
    "  implicit val numberOfCats: Int = 3\n",
    "  //implicit val numberOfDogs: Int = 5\n",
    "\n",
    "  def tooManyCats(nDogs: Int)(implicit nCats: Int): Boolean = nCats > nDogs\n",
    "    \n",
    "  val imp = tooManyCats(2)    // Argument passed implicitly!\n",
    "  val exp = tooManyCats(2)(1) // Argument passed explicitly!\n",
    "}\n",
    "CatDog.imp\n",
    "CatDog.exp"
   ]
  },
  {
   "cell_type": "markdown",
   "metadata": {},
   "source": [
    "发生了什么？首先，我们定义了一个隐式值 **numberOfCats**。在给定的作用域中，**只能有一个给定类型的隐式值**。然后，我们定义了一个函数，它接受两个参数列表；第一个是任何显式参数，第二个是任何隐式参数。当我们调用 **tooManyCats** 时，我们可以省略第二个隐式参数列表（让编译器为我们找到它），也可以显式地提供一个参数（可以与隐式值不同）。\n",
    "\n",
    "隐式参数可能*失败*的情况如下：\n",
    "- 在一个作用域中定义了两个或多个给定类型的隐式值\n",
    "- 编译器找不到函数调用所需的隐式值\n",
    "\n",
    "<span style=\"color:blue\">**示例：隐式日志记录**</span><br>\n",
    "下一个代码块展示了如何使用隐式参数在 Chisel 生成器中实现日志记录。\n",
    "\n",
    "***注意：在 Scala 中有更好的日志记录方法！***"
   ]
  },
  {
   "cell_type": "code",
   "execution_count": null,
   "metadata": {},
   "outputs": [],
   "source": [
    "sealed trait Verbosity\n",
    "implicit case object Silent extends Verbosity\n",
    "case object Verbose extends Verbosity\n",
    "// Silent和Verbose是Verbosity trait的两种实例，分别表示静默和详细日志记录。\n",
    "\n",
    "class ParameterizedWidthAdder(in0Width: Int, in1Width: Int, sumWidth: Int)(implicit verbosity: Verbosity)\n",
    "extends Module {\n",
    "  def log(msg: => String): Unit = verbosity match {\n",
    "    case Silent =>\n",
    "    case Verbose => println(msg)\n",
    "  }\n",
    "  require(in0Width >= 0)\n",
    "  log(s\"in0Width of $in0Width OK\")\n",
    "  require(in1Width >= 0)\n",
    "  log(s\"in1Width of $in1Width OK\")\n",
    "  require(sumWidth >= 0)\n",
    "  log(s\"sumWidth of $sumWidth OK\")\n",
    "  val io = IO(new Bundle {\n",
    "    val in0 = Input(UInt(in0Width.W))\n",
    "    val in1 = Input(UInt(in1Width.W))\n",
    "    val sum = Output(UInt(sumWidth.W))\n",
    "  })\n",
    "  log(\"Made IO\")\n",
    "  io.sum := io.in0 + io.in1\n",
    "  log(\"Assigned output\")\n",
    "}\n",
    "\n",
    "println(getVerilog(new ParameterizedWidthAdder(1, 4, 5)))\n",
    "println(getVerilog(new ParameterizedWidthAdder(1, 4, 5)(Verbose)))"
   ]
  },
  {
   "cell_type": "markdown",
   "metadata": {},
   "source": [
    "（译者添加）对于上面 log 函数的解释。\n",
    "\n",
    "参数`msg: => String`\n",
    "\n",
    "- `msg: => String`是一种“按需计算”参数（call-by-name parameter）。与普通的`msg: String`不同，这种参数在传递时不会立即计算其值，而是在使用时才计算。\n",
    "- 这意味着当`log`函数被调用时，只有在`verbosity`是`Verbose`的情况下，`msg`才会被计算并传递给`println`。如果`verbosity`是`Silent`，`msg`则不会被计算。\n",
    "\n",
    "为什么使用这种语法？  \n",
    "由于`msg`是按需计算的参数，如果`verbosity`是`Silent`，那么`msg`的计算会被跳过。这在某些情况下可以避免不必要的计算，从而提高程序的效率。只有在确定需要打印日志时，才计算日志消息的内容。这对于构建复杂的日志消息（例如包含大量变量的字符串拼接）非常有用，可以减少不必要的性能开销。\n",
    "\n",
    "考虑以下示例，演示按需计算参数的效果：\n",
    "\n",
    "```scala\n",
    "def expensiveComputation(): String = {\n",
    "  println(\"Expensive computation is performed\")\n",
    "  \"Result of computation\"\n",
    "}\n",
    "\n",
    "def log(msg: => String): Unit = verbosity match {\n",
    "  case Silent =>\n",
    "  case Verbose => println(msg)\n",
    "}\n",
    "\n",
    "implicit val verbosity: Verbosity = Silent\n",
    "log(expensiveComputation())  // This will not print \"Expensive computation is performed\"\n",
    "```\n",
    "\n",
    "在上面的示例中，由于`verbosity`是`Silent`，`expensiveComputation`函数不会被调用，因为`msg`参数没有被使用。这就避免了不必要的计算。"
   ]
  },
  {
   "cell_type": "markdown",
   "metadata": {},
   "source": [
    "## Implicit Conversions\n",
    "和隐式参数一样，隐式函数（也称为**隐式转换**）用于减少样板代码。更具体地说，它们用于自动将一个 Scala 对象转换为另一个。\n",
    "\n",
    "<span style=\"color:blue\">**示例：隐式转换**</span><br>\n",
    "在下面的示例中，我们有两个类，`Animal` 和 `Human`。`Animal` 有一个 `species` 字段，但 `Human` 没有。然而，通过实现隐式转换，我们可以在 `Human` 上调用 `species`。"
   ]
  },
  {
   "cell_type": "code",
   "execution_count": null,
   "metadata": {},
   "outputs": [],
   "source": [
    "class Animal(val name: String, val species: String)\n",
    "class Human(val name: String)\n",
    "implicit def human2animal(h: Human): Animal = new Animal(h.name, \"Homo sapiens\")\n",
    "val me = new Human(\"Adam\")\n",
    "println(me.species)"
   ]
  },
  {
   "cell_type": "markdown",
   "metadata": {},
   "source": [
    "通常，隐式转换会使你的代码变得混乱，因此我们建议你将其作为最后的手段。首先尝试继承、特征或方法重载。"
   ]
  },
  {
   "cell_type": "markdown",
   "metadata": {},
   "source": [
    "---\n",
    "# Generator Example\n",
    "以下示例展示了一个用于 1 位输入 Mealy 机器的生成器。它的测试基于 [维基百科](https://en.wikipedia.org/wiki/Mealy_machine#/media/File:Mealy.png) 的示例。阅读代码并尝试理解其运行过程。\n",
    "\n",
    "<span style=\"color:blue\">**示例：Mealy 机器**</span><br>\n",
    "尝试对 Mealy 机器生成器进行自己的参数化，并在下面的代码块中编写自己的测试。"
   ]
  },
  {
   "cell_type": "code",
   "execution_count": null,
   "metadata": {},
   "outputs": [],
   "source": [
    "// Mealy machine has\n",
    "case class BinaryMealyParams(\n",
    "  // number of states\n",
    "  nStates: Int,\n",
    "  // initial state\n",
    "  s0: Int,\n",
    "  // function describing state transition\n",
    "  stateTransition: (Int, Boolean) => Int,\n",
    "  // function describing output\n",
    "  output: (Int, Boolean) => Int\n",
    ") {\n",
    "  require(nStates >= 0)\n",
    "  require(s0 < nStates && s0 >= 0)\n",
    "}\n",
    "\n",
    "class BinaryMealy(val mp: BinaryMealyParams) extends Module {\n",
    "  val io = IO(new Bundle {\n",
    "    val in = Input(Bool())\n",
    "    val out = Output(UInt())\n",
    "  })\n",
    "\n",
    "  val state = RegInit(UInt(), mp.s0.U)\n",
    "\n",
    "  // output zero if no states\n",
    "  io.out := 0.U\n",
    "  for (i <- 0 until mp.nStates) {\n",
    "    when (state === i.U) {\n",
    "      when (io.in) {\n",
    "        state  := mp.stateTransition(i, true).U\n",
    "        io.out := mp.output(i, true).U\n",
    "      }.otherwise {\n",
    "        state  := mp.stateTransition(i, false).U\n",
    "        io.out := mp.output(i, false).U\n",
    "      }\n",
    "    }\n",
    "  }\n",
    "}\n",
    "\n",
    "// example from https://en.wikipedia.org/wiki/Mealy_machine\n",
    "val nStates = 3\n",
    "val s0 = 2\n",
    "def stateTransition(state: Int, in: Boolean): Int = {\n",
    "  if (in) {\n",
    "    1\n",
    "  } else {\n",
    "    0\n",
    "  }\n",
    "}\n",
    "def output(state: Int, in: Boolean): Int = {\n",
    "  if (state == 2) {\n",
    "    return 0\n",
    "  }\n",
    "  if ((state == 1 && !in) || (state == 0 && in)) {\n",
    "    return 1\n",
    "  } else {\n",
    "    return 0\n",
    "  }\n",
    "}\n",
    "\n",
    "val testParams = BinaryMealyParams(nStates, s0, stateTransition, output)\n",
    "\n",
    "test(new BinaryMealy(testParams)) { c =>\n",
    "  c.io.in.poke(false.B)\n",
    "  c.io.out.expect(0.U)\n",
    "  c.clock.step(1)\n",
    "  c.io.in.poke(false.B)\n",
    "  c.io.out.expect(0.U)\n",
    "  c.clock.step(1)\n",
    "  c.io.in.poke(false.B)\n",
    "  c.io.out.expect(0.U)\n",
    "  c.clock.step(1)\n",
    "  c.io.in.poke(true.B)\n",
    "  c.io.out.expect(1.U)\n",
    "  c.clock.step(1)\n",
    "  c.io.in.poke(true.B)\n",
    "  c.io.out.expect(0.U)\n",
    "  c.clock.step(1)\n",
    "  c.io.in.poke(false.B)\n",
    "  c.io.out.expect(1.U)\n",
    "  c.clock.step(1)\n",
    "  c.io.in.poke(true.B)\n",
    "  c.io.out.expect(1.U)\n",
    "  c.clock.step(1)\n",
    "  c.io.in.poke(false.B)\n",
    "  c.io.out.expect(1.U)\n",
    "  c.clock.step(1)\n",
    "  c.io.in.poke(true.B)\n",
    "  c.io.out.expect(1.U)\n",
    "}\n",
    "\n",
    "println(\"SUCCESS!!\") // Scala Code: if we get here, our tests passed!"
   ]
  },
  {
   "cell_type": "markdown",
   "metadata": {},
   "source": [
    "---\n",
    "# You're done!\n",
    "\n",
    "[Return to the top.](#top)"
   ]
  }
 ],
 "metadata": {
  "kernelspec": {
   "display_name": "Scala",
   "language": "scala",
   "name": "scala"
  },
  "language_info": {
   "codemirror_mode": "text/x-scala",
   "file_extension": ".scala",
   "mimetype": "text/x-scala",
   "name": "scala",
   "nbconvert_exporter": "script",
   "version": "2.12.10"
  }
 },
 "nbformat": 4,
 "nbformat_minor": 1
}
