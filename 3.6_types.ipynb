{
 "cells": [
  {
   "attachments": {},
   "cell_type": "markdown",
   "metadata": {},
   "source": [
    "<a name=\"top\"></a><img src=\"images/chisel_1024.png\" alt=\"Chisel logo\" style=\"width:480px;\" />"
   ]
  },
  {
   "attachments": {},
   "cell_type": "markdown",
   "metadata": {},
   "source": [
    "# Module 3.6: Generators: Types\n",
    "**Prev: [Object Oriented Programming](3.5_object_oriented_programming.ipynb)**<br>\n",
    "**Next: [Introduction to FIRRTL](4.1_firrtl_ast.ipynb)**\n",
    "\n",
    "## Motivation\n",
    "Scala 是一种强类型编程语言。这是一把双刃剑；一方面，许多在 Python（动态类型语言）中可以编译和执行的程序在 Scala 中会在编译时失败。另一方面，在 Scala 中编译的程序比类似的 Python 程序包含的运行时错误要少得多。\n",
    "\n",
    "在本节中，我们的目标是让你熟悉类型作为 Scala 中的一级公民。虽然最初你可能会觉得生产力有限，但你很快就会学会理解编译时错误消息，并如何考虑类型系统来构建你的程序，以便为你捕捉更多的错误。\n",
    "\n",
    "## Setup"
   ]
  },
  {
   "cell_type": "code",
   "execution_count": null,
   "metadata": {},
   "outputs": [],
   "source": [
    "val path = System.getProperty(\"user.dir\") + \"/source/load-ivy.sc\"\n",
    "interp.load.module(ammonite.ops.Path(java.nio.file.FileSystems.getDefault().getPath(path)))"
   ]
  },
  {
   "cell_type": "code",
   "execution_count": null,
   "metadata": {},
   "outputs": [],
   "source": [
    "import chisel3._\n",
    "import chisel3.util._\n",
    "import chisel3.tester._\n",
    "import chisel3.tester.RawTester.test"
   ]
  },
  {
   "attachments": {},
   "cell_type": "markdown",
   "metadata": {},
   "source": [
    "---\n",
    "# Static Types<a name=\"types-in-scala\"></a>\n",
    "\n",
    "## Types in Scala\n",
    "\n",
    "Scala 中的所有对象（objects）都有一个类型，通常是对象的类。\n",
    "让我们看一些例子："
   ]
  },
  {
   "cell_type": "code",
   "execution_count": null,
   "metadata": {},
   "outputs": [],
   "source": [
    "println(10.getClass)\n",
    "println(10.0.getClass)\n",
    "println(\"ten\".getClass)"
   ]
  },
  {
   "attachments": {},
   "cell_type": "markdown",
   "metadata": {},
   "source": [
    "When you declare your own class, it has an associated type."
   ]
  },
  {
   "cell_type": "code",
   "execution_count": null,
   "metadata": {},
   "outputs": [],
   "source": [
    "class MyClass {\n",
    "    def myMethod = ???\n",
    "}\n",
    "println(new MyClass().getClass)"
   ]
  },
  {
   "attachments": {},
   "cell_type": "markdown",
   "metadata": {},
   "source": [
    "虽然不是必需的，但强烈建议**为所有函数声明定义输入和输出类型**。这将使 Scala 编译器能够捕捉函数的不正确使用。"
   ]
  },
  {
   "cell_type": "code",
   "execution_count": null,
   "metadata": {},
   "outputs": [],
   "source": [
    "def double(s: String): String = s + s\n",
    "// Uncomment the code below to test it\n",
    "// double(\"hi\")      // Proper use of double\n",
    "// double(10)        // Bad input argument!\n",
    "// double(\"hi\") / 10 // Inproper use of double's output!"
   ]
  },
  {
   "attachments": {},
   "cell_type": "markdown",
   "metadata": {},
   "source": [
    "Functions that don't return anything return type `Unit`."
   ]
  },
  {
   "cell_type": "code",
   "execution_count": null,
   "metadata": {},
   "outputs": [],
   "source": [
    "var counter = 0\n",
    "def increment(): Unit = {\n",
    "    counter += 1\n",
    "}\n",
    "increment()"
   ]
  },
  {
   "attachments": {},
   "cell_type": "markdown",
   "metadata": {},
   "source": [
    "## Scala vs. Chisel Types<a name=\"scala-vs-chisel-types\"></a>\n",
    "\n",
    "回顾：模块 2.2 讨论了 Chisel 类型和 Scala 类型之间的区别，例如\n",
    "\n",
    "```scala\n",
    "val a = Wire(UInt(4.W))\n",
    "a := 0.U\n",
    "```\n",
    "\n",
    "是合法的，因为 `0.U` 的类型是 `UInt`（一种 Chisel 类型），而\n",
    "\n",
    "```scala\n",
    "val a = Wire(UInt(4.W))\n",
    "a := 0\n",
    "```\n",
    "\n",
    "是不合法的，因为 0 的类型是 `Int`（一种 Scala 类型）。（译者注：UInt(4.W)是类型节点，0.U是硬件节点。这在模块2.4节有简要叙述。）\n",
    "\n",
    "这同样适用于 `Bool`，它是一种不同于 `Boolean` 的 Chisel 类型。\n",
    "\n",
    "```scala\n",
    "val bool = Wire(Bool())\n",
    "val boolean: Boolean = false\n",
    "// 合法\n",
    "when (bool) { ... }\n",
    "if (boolean) { ... }\n",
    "// 非法\n",
    "if (bool) { ... }\n",
    "when (boolean) { ... }\n",
    "```\n",
    "\n",
    "如果你犯了一个错误，将 `UInt` 和 `Int` 或 `Bool` 和 `Boolean` 混淆，Scala 编译器通常会为你捕捉到这个错误。\n",
    "这是因为 Scala 的静态类型。\n",
    "在编译时，编译器能够区分 Chisel 和 Scala 类型，并且能够理解 `if ()` 需要 `Boolean`，而 `when ()` 需要 `Bool`。"
   ]
  },
  {
   "attachments": {},
   "cell_type": "markdown",
   "metadata": {},
   "source": [
    "## Scala Type Coercion<a name=\"type-coercion\"></a>\n",
    "\n",
    "<!-- typeOf. Scala has a function called `typeOf[T]` which returns a type object for `T`. -->\n",
    "<!-- This doesn't actually seem useful to Chisel users... -->"
   ]
  },
  {
   "attachments": {},
   "cell_type": "markdown",
   "metadata": {
    "collapsed": true
   },
   "source": [
    "### asInstanceOf\n",
    "\n",
    "`x.asInstanceOf[T]` 将对象 `x` 强制转换为类型 `T`。如果给定对象不能强制转换为类型 `T`，它会抛出异常。"
   ]
  },
  {
   "cell_type": "code",
   "execution_count": null,
   "metadata": {},
   "outputs": [],
   "source": [
    "val x: UInt = 3.U\n",
    "try {\n",
    "  println(x.asInstanceOf[Int])\n",
    "} catch {\n",
    "  case e: java.lang.ClassCastException => println(\"As expected, we can't cast UInt to Int\")\n",
    "}\n",
    "\n",
    "// But we can cast UInt to Data since UInt inherits from Data.\n",
    "println(x.asInstanceOf[Data])"
   ]
  },
  {
   "attachments": {},
   "cell_type": "markdown",
   "metadata": {},
   "source": [
    "### Type Casting in Chisel\n",
    "\n",
    "如果尝试运行下面的代码而不删除注释，将会出现错误。问题是什么？\n",
    "它试图将一个 `UInt` 分配给一个 `SInt`，这是非法的。\n",
    "\n",
    "Chisel 提供了一组类型转换函数。\n",
    "最通用的是 `asTypeOf()`，如下所示。\n",
    "一些 Chisel 对象还定义了 `asUInt()` 和 `asSInt()` 以及其他一些类型转换函数。\n",
    "\n",
    "如果删除下面代码块中的 `//`，示例应该可以正常运行。\n",
    "\n",
    "```scala\n",
    "val a = Wire(UInt(4.W))\n",
    "val b = Wire(SInt(4.W))\n",
    "// b := a  // 这行会导致错误\n",
    "\n",
    "b := a.asTypeOf(SInt(4.W))  // 正确的类型转换\n",
    "```"
   ]
  },
  {
   "cell_type": "code",
   "execution_count": null,
   "metadata": {},
   "outputs": [],
   "source": [
    "class TypeConvertDemo extends Module {\n",
    "    val io = IO(new Bundle {\n",
    "        val in  = Input(UInt(4.W))\n",
    "        val out = Output(SInt(4.W))\n",
    "    })\n",
    "    io.out := io.in//.asTypeOf(io.out)\n",
    "}\n",
    "\n",
    "test(new TypeConvertDemo) { c =>\n",
    "      c.io.in.poke(3.U)\n",
    "      c.io.out.expect(3.S)\n",
    "      c.io.in.poke(15.U)\n",
    "      c.io.out.expect(-1.S)\n",
    "}"
   ]
  },
  {
   "attachments": {},
   "cell_type": "markdown",
   "metadata": {},
   "source": [
    "---\n",
    "# Type Matching<a name=\"type-matching\"></a>\n",
    "\n",
    "## Match Operator\n",
    "回顾一下，在 3.1 中介绍了 match 操作符。\n",
    "类型匹配在编写类型泛型生成器时尤其有用。\n",
    "下面的示例展示了一个可以添加类型为 `UInt` 或 `SInt` 的两个字面量的“生成器”。\n",
    "后面的部分将更多地讨论如何编写类型泛型生成器。\n",
    "\n",
    "**注意：在 Scala 中有更好且更安全的方法来编写类型泛型生成器**。"
   ]
  },
  {
   "cell_type": "code",
   "execution_count": null,
   "metadata": {},
   "outputs": [],
   "source": [
    "class ConstantSum(in1: Data, in2: Data) extends Module {\n",
    "    val io = IO(new Bundle {\n",
    "        val out = Output(chiselTypeOf(in1)) // in case in1 is literal then just get its type\n",
    "    })\n",
    "    (in1, in2) match {\n",
    "        case (x: UInt, y: UInt) => io.out := x + y\n",
    "        case (x: SInt, y: SInt) => io.out := x + y\n",
    "        case _ => throw new Exception(\"I give up!\")\n",
    "    }\n",
    "}\n",
    "println(getVerilog(dut = new ConstantSum(3.U, 4.U)))\n",
    "println(getVerilog(dut = new ConstantSum(-3.S, 4.S)))\n",
    "println(getVerilog(dut = new ConstantSum(3.U, 4.S)))\n"
   ]
  },
  {
   "attachments": {},
   "cell_type": "markdown",
   "metadata": {},
   "source": [
    "需要记住的是，Chisel 类型通常不应进行值匹配。\n",
    "Scala 的 match 在电路详细生成（elaboration）期间执行，但你可能需要的是详细生成后（post-elaboration）的比较。\n",
    "以下代码会产生语法错误："
   ]
  },
  {
   "cell_type": "code",
   "execution_count": null,
   "metadata": {},
   "outputs": [],
   "source": [
    "class InputIsZero extends Module {\n",
    "    val io = IO(new Bundle {\n",
    "        val in  = Input(UInt(16.W))\n",
    "        val out = Output(Bool())\n",
    "    })\n",
    "    io.out := (io.in match {\n",
    "        // note that case 0.U is an error\n",
    "        case (0.U) => true.B\n",
    "        case _   => false.B\n",
    "    })\n",
    "}\n",
    "println(getVerilog(new InputIsZero))"
   ]
  },
  {
   "attachments": {},
   "cell_type": "markdown",
   "metadata": {},
   "source": [
    "## Unapply\n",
    "在执行 match 时，实际发生了什么？\n",
    "Scala 是如何让你用 case classes 进行花哨的值匹配的，如下所示：\n",
    "```scala\n",
    "case class Something(a: String, b: Int)\n",
    "val a = Something(\"A\", 3)\n",
    "a match {\n",
    "    case Something(\"A\", value) => value\n",
    "    case Something(str, 3)     => 0\n",
    "}\n",
    "```\n",
    "\n",
    "事实证明，为每个 case class 创建的伴生对象除了包含 **apply** 方法外，还包含 **unapply** 方法。\n",
    "什么是 **unapply** 方法？\n",
    "\n",
    "Scala 的 unapply 方法是另一种语法糖，使得 match 语句不仅能够匹配类型，还能够在匹配过程中**提取值**。\n",
    "\n",
    "让我们看下面的例子。\n",
    "出于某种原因，假设如果生成器被流水化，延迟为 `3*totalWidth`，否则延迟为 `2*someOtherWidth`。\n",
    "由于 case classes 定义了 **unapply**，我们可以匹配 case class 中的值，如下所示：\n",
    "\n",
    "```scala\n",
    "case class Generator(pipelined: Boolean, totalWidth: Int, someOtherWidth: Int)\n",
    "\n",
    "def calculateDelay(gen: Generator): Int = {\n",
    "  gen match {\n",
    "    case Generator(true, totalWidth, _) => 3 * totalWidth\n",
    "    case Generator(false, _, someOtherWidth) => 2 * someOtherWidth\n",
    "  }\n",
    "}\n",
    "\n",
    "val gen1 = Generator(true, 10, 5)\n",
    "val gen2 = Generator(false, 10, 5)\n",
    "\n",
    "println(calculateDelay(gen1))  // 输出 30\n",
    "println(calculateDelay(gen2))  // 输出 10\n",
    "```\n",
    "\n",
    "在这个例子中，我们使用 unapply 提取 Generator case class 中的值，并根据 `pipelined` 字段的值计算延迟。"
   ]
  },
  {
   "cell_type": "code",
   "execution_count": null,
   "metadata": {},
   "outputs": [],
   "source": [
    "case class SomeGeneratorParameters(\n",
    "    someWidth: Int,\n",
    "    someOtherWidth: Int = 10,\n",
    "    pipelineMe: Boolean = false\n",
    ") {\n",
    "    require(someWidth >= 0)\n",
    "    require(someOtherWidth >= 0)\n",
    "    val totalWidth = someWidth + someOtherWidth\n",
    "}\n",
    "\n",
    "def delay(p: SomeGeneratorParameters): Int = p match {\n",
    "    case SomeGeneratorParameters(_, sw, false) => sw * 2\n",
    "    case sg @SomeGeneratorParameters(_, _, true) => sg.totalWidth * 3\n",
    "}\n",
    "\n",
    "println(delay(SomeGeneratorParameters(10, 10)))\n",
    "println(delay(SomeGeneratorParameters(10, 10, true)))"
   ]
  },
  {
   "attachments": {},
   "cell_type": "markdown",
   "metadata": {},
   "source": [
    "如果你查看 `delay` 函数，你会注意到，除了匹配每个字符的类型，我们还在做以下几件事：\n",
    "- 直接引用参数的内部值\n",
    "- 有时直接匹配参数的内部值\n",
    "\n",
    "这些都是因为编译器实现了 `unapply` 方法。请注意，unapply 只是语法糖；例如，以下两个 case 示例是等价的：\n",
    "```scala\n",
    "case p: SomeGeneratorParameters => p.sw * 2\n",
    "case SomeGeneratorParameters(_, sw, _) => sw * 2\n",
    "```\n",
    "\n",
    "此外，还有更多的匹配语法和风格。以下两个 case 也是等价的，但第二个允许在引用父值的同时匹配内部值：\n",
    "```scala\n",
    "case SomeGeneratorParameters(_, sw, true) => sw\n",
    "case sg @SomeGeneratorParameters(_, sw, true) => sw\n",
    "```\n",
    "\n",
    "最后，你可以将条件检查直接嵌入到 match 语句中，如以下等价示例的第三个所示：\n",
    "```scala\n",
    "case SomeGeneratorParameters(_, sw, false) => sw * 2\n",
    "case s @SomeGeneratorParameters(_, sw, false) => s.sw * 2\n",
    "case s: SomeGeneratorParameters if s.pipelineMe => s.sw * 2\n",
    "```\n",
    "\n",
    "所有这些语法都是通过类的伴生对象中的 Scala unapply 方法启用的。如果你想对一个类进行 unapply，但不想将其设为 case class，你可以手动实现 unapply 方法。以下示例演示了如何手动实现类的 apply 和 unapply 方法："
   ]
  },
  {
   "cell_type": "code",
   "execution_count": null,
   "metadata": {},
   "outputs": [],
   "source": [
    "class Boat(val name: String, val length: Int)\n",
    "object Boat {\n",
    "    def unapply(b: Boat): Option[(String, Int)] = Some((b.name, b.length))\n",
    "    def apply(name: String, length: Int): Boat = new Boat(name, length)\n",
    "}\n",
    "\n",
    "def getSmallBoats(seq: Seq[Boat]): Seq[Boat] = seq.filter { b =>\n",
    "    b match {\n",
    "        case Boat(_, length) if length < 60 => true\n",
    "        case Boat(_, _) => false\n",
    "    }\n",
    "}\n",
    "\n",
    "val boats = Seq(Boat(\"Santa Maria\", 62), Boat(\"Pinta\", 56), Boat(\"Nina\", 50))\n",
    "println(getSmallBoats(boats).map(_.name).mkString(\" and \") + \" are small boats!\")"
   ]
  },
  {
   "attachments": {},
   "cell_type": "markdown",
   "metadata": {},
   "source": [
    "## Partial Functions\n",
    "这是一个简要概述；[本指南](https://twitter.github.io/scala_school/pattern-matching-and-functional-composition.html#PartialFunction) 有更详细的介绍。\n",
    "\n",
    "Partial Functions 是只在其输入子集上定义的函数。\n",
    "类似于 Option，Partial Function 可能对特定输入没有值。\n",
    "这可以通过 `isDefinedAt(...)` 来测试。\n",
    "\n",
    "Partial Functions 可以通过 `orElse` 链接在一起。\n",
    "\n",
    "请注意，调用 Partial Function 时如果输入未定义，将导致运行时错误。例如，如果 Partial Function 的输入是用户定义的，则可能会发生这种情况。为了更类型安全，建议编写返回 Option 的函数。"
   ]
  },
  {
   "cell_type": "code",
   "execution_count": null,
   "metadata": {},
   "outputs": [],
   "source": [
    "// Helper function to make this cell a bit less tedious.\n",
    "def printAndAssert(cmd: String, result: Boolean, expected: Boolean): Unit = {\n",
    "  println(s\"$cmd = $result\")\n",
    "  assert(result == expected)\n",
    "}\n",
    "\n",
    "// Defined for -1, 2, 5, etc.\n",
    "val partialFunc1: PartialFunction[Int, String] = {\n",
    "  case i if (i + 1) % 3 == 0 => \"Something\"\n",
    "}\n",
    "printAndAssert(\"partialFunc1.isDefinedAt(2)\", partialFunc1.isDefinedAt(2), true)\n",
    "printAndAssert(\"partialFunc1.isDefinedAt(5)\", partialFunc1.isDefinedAt(5), true)\n",
    "printAndAssert(\"partialFunc1.isDefinedAt(1)\", partialFunc1.isDefinedAt(1), false)\n",
    "printAndAssert(\"partialFunc1.isDefinedAt(0)\", partialFunc1.isDefinedAt(0), false)\n",
    "println(s\"partialFunc1(2) = ${partialFunc1(2)}\")\n",
    "try {\n",
    "  println(partialFunc1(0))\n",
    "} catch {\n",
    "  case e: scala.MatchError => println(\"partialFunc1(0) = can't apply PartialFunctions where they are not defined\")\n",
    "}\n",
    "\n",
    "// Defined for 1, 4, 7, etc.\n",
    "val partialFunc2: PartialFunction[Int, String] = {\n",
    "  case i if (i + 2) % 3 == 0 => \"Something else\"\n",
    "}\n",
    "printAndAssert(\"partialFunc2.isDefinedAt(1)\", partialFunc2.isDefinedAt(1), true)\n",
    "printAndAssert(\"partialFunc2.isDefinedAt(0)\", partialFunc2.isDefinedAt(0), false)\n",
    "println(s\"partialFunc2(1) = ${partialFunc2(1)}\")\n",
    "try {\n",
    "  println(partialFunc2(0))\n",
    "} catch {\n",
    "  case e: scala.MatchError => println(\"partialFunc2(0) = can't apply PartialFunctions where they are not defined\")\n",
    "}\n",
    "\n",
    "val partialFunc3 = partialFunc1 orElse partialFunc2\n",
    "printAndAssert(\"partialFunc3.isDefinedAt(0)\", partialFunc3.isDefinedAt(0), false)\n",
    "printAndAssert(\"partialFunc3.isDefinedAt(1)\", partialFunc3.isDefinedAt(1), true)\n",
    "printAndAssert(\"partialFunc3.isDefinedAt(2)\", partialFunc3.isDefinedAt(2), true)\n",
    "printAndAssert(\"partialFunc3.isDefinedAt(3)\", partialFunc3.isDefinedAt(3), false)\n",
    "println(s\"partialFunc3(1) = ${partialFunc3(1)}\")\n",
    "println(s\"partialFunc3(2) = ${partialFunc3(2)}\")"
   ]
  },
  {
   "attachments": {},
   "cell_type": "markdown",
   "metadata": {},
   "source": [
    "---\n",
    "# Type Safe Connections<a name=\"type-safe-connections\"></a>\n",
    "\n",
    "Chisel 可以检查许多连接的类型，包括：\n",
    "* Bool/UInt 到 Clock\n",
    "\n",
    "对于其他类型，Chisel 会让你连接它们，但可能会适当地截断/填充位。\n",
    "* Bool/UInt 到 Bool/UInt\n",
    "* Bundle 到 Bundle"
   ]
  },
  {
   "cell_type": "code",
   "execution_count": null,
   "metadata": {},
   "outputs": [],
   "source": [
    "class Bundle1 extends Bundle {\n",
    "  val a = UInt(8.W)\n",
    "}\n",
    "\n",
    "class Bundle2 extends Bundle1 {\n",
    "  val b = UInt(16.W)\n",
    "}\n",
    "\n",
    "class BadTypeModule extends Module {\n",
    "  val io = IO(new Bundle {\n",
    "    val c  = Input(Clock())\n",
    "    val in = Input(UInt(2.W))\n",
    "    val out = Output(Bool())\n",
    "\n",
    "    val bundleIn = Input(new Bundle2)\n",
    "    val bundleOut = Output(new Bundle1)\n",
    "  })\n",
    "  \n",
    "  //io.out := io.c // won't work due to different types\n",
    "\n",
    "  // Okay, but Chisel will truncate the input width to 1 to match the output.\n",
    "//   io.out := io.in\n",
    "\n",
    "//   // Compiles; Chisel will connect the common subelements of the two Bundles (in this case, 'a').\n",
    "//   io.bundleOut := io.bundleIn\n",
    "}\n",
    "\n",
    "println(getVerilog(new BadTypeModule))"
   ]
  },
  {
   "attachments": {},
   "cell_type": "markdown",
   "metadata": {},
   "source": [
    "---\n",
    "# Type Generics（类型泛型）<a name=\"type-generics\"></a>\n",
    "Scala 的泛型类型（也称为多态）非常复杂，特别是在与继承结合使用时。\n",
    "\n",
    "本节只是初步介绍；要了解更多，请查看[本教程](https://twitter.github.io/scala_school/type-basics.html)。\n",
    "\n",
    "类可以在其类型上实现多态。一个很好的例子是序列，它们需要知道其包含的类型。"
   ]
  },
  {
   "cell_type": "code",
   "execution_count": null,
   "metadata": {},
   "outputs": [],
   "source": [
    "val seq1 = Seq(\"1\", \"2\", \"3\") // Type is Seq[String]\n",
    "val seq2 = Seq(1, 2, 3)       // Type is Seq[Int]\n",
    "val seq3 = Seq(1, \"2\", true)  // Type is Seq[Any]"
   ]
  },
  {
   "attachments": {},
   "cell_type": "markdown",
   "metadata": {},
   "source": [
    "有时，Scala 编译器需要帮助来确定多态类型，这需要用户显式地指定类型："
   ]
  },
  {
   "cell_type": "code",
   "execution_count": null,
   "metadata": {},
   "outputs": [],
   "source": [
    "//val default = Seq() // Error!\n",
    "val default = Seq[String]() // User must tell compiler that default is of type Seq[String]\n",
    "Seq(1, \"2\", true).foldLeft(default){ (strings, next) =>\n",
    "    next match {\n",
    "        case s: String => strings ++ Seq(s)\n",
    "        case _ => strings\n",
    "    }\n",
    "}"
   ]
  },
  {
   "attachments": {},
   "cell_type": "markdown",
   "metadata": {},
   "source": [
    "函数也可以在其输入或输出类型上实现多态。以下示例定义了一个函数，用于计时运行一段代码所需的时间。它基于代码块的返回类型进行参数化。*请注意，`=> T` 语法表示没有参数列表的匿名函数，例如 `{ ... }` 与 `{ x => ... }`。*\n",
    "\n",
    "译者注：\n",
    "- 传名调用：block 是一个没有参数的匿名函数，只有在 block 被调用时才会执行其内容。这和传值调用（call-by-value）不同，传值调用会在函数被调用之前先求值所有参数。\n",
    "- 类型参数化：block 的返回类型是泛型 T，这意味着 time 函数可以处理任何返回类型的代码块。可以认为，`block: => T`表示`block`的类型是` => T`。"
   ]
  },
  {
   "cell_type": "code",
   "execution_count": null,
   "metadata": {},
   "outputs": [],
   "source": [
    "def time[T](block: => T): T = {\n",
    "    val t0 = System.nanoTime()\n",
    "    val result = block\n",
    "    val t1 = System.nanoTime()\n",
    "    val timeMillis = (t1 - t0) / 1000000.0\n",
    "    println(s\"Block took $timeMillis milliseconds!\")\n",
    "    result\n",
    "}\n",
    "\n",
    "// Adds 1 through a million\n",
    "val int = time { (1 to 1000000).reduce(_ + _) }\n",
    "println(s\"Add 1 through a million is $int\")\n",
    "\n",
    "// Finds the largest number under a million that, in hex, contains \"beef\"\n",
    "val string = time {\n",
    "    (1 to 1000000).map(_.toHexString).filter(_.contains(\"beef\")).last\n",
    "}\n",
    "println(s\"The largest number under a million that has beef: $string\")"
   ]
  },
  {
   "attachments": {},
   "cell_type": "markdown",
   "metadata": {},
   "source": [
    "## Chisel Type Hierarchy\n",
    "要使用 Chisel 编写类型泛型代码，了解一些 Chisel 的类型层次结构是有帮助的。\n",
    "\n",
    "`chisel3.Data` 是 Chisel 硬件类型的基类。\n",
    "`UInt`、`SInt`、`Vec`、`Bundle` 等都是 `Data` 的实例。\n",
    "`Data` 可以在 IOs 中使用，并支持 `:=`、wires、regs 等。\n",
    "\n",
    "寄存器是 Chisel 中多态代码的一个好例子。\n",
    "查看 `RegEnable`（带有 `Bool` 使能信号的寄存器）的实现[这里](https://github.com/freechipsproject/chisel3/blob/v3.0.0/src/main/scala/chisel3/util/Reg.scala#L10)。\n",
    "apply 函数模板化为 `[T <: Data]`，这意味着 `RegEnable` 将适用于所有 Chisel 硬件类型。\n",
    "\n",
    "某些操作仅定义在 `Bits` 的子类型上，例如 `+`。\n",
    "这就是为什么你可以相加 `UInt` 或 `SInt`，但不能相加 `Bundle` 或 `Vec`。"
   ]
  },
  {
   "attachments": {},
   "cell_type": "markdown",
   "metadata": {},
   "source": [
    "<span style=\"color:blue\">**示例：Type Generic ShiftRegister**<a name=\"type-generic-shift-register\"></a></span><br>\n",
    "在 Scala 中，对象和函数不是我们可以作为参数处理的唯一事物。\n",
    "我们还可以将类型作为参数处理。\n",
    "\n",
    "我们通常需要提供类型约束。\n",
    "在这种情况下，我们希望能够将对象放入 bundle 中，连接（:=）它们，并用它们创建寄存器（RegNext）。\n",
    "这些操作不能对任意对象执行；例如，wire := 3 是非法的，因为 3 是 Scala Int，不是 Chisel UInt。\n",
    "如果我们使用类型约束来说类型 T 是 Data 的子类，那么我们可以对类型 T 的任何对象使用 :=，因为 := 对所有 Data 都定义。\n",
    "\n",
    "这里是一个将类型作为参数的移位寄存器的实现。\n",
    "*gen* 是一个类型为 T 的参数，告诉使用什么宽度，例如 `new ShiftRegister(UInt(4.W))` 是一个用于 4 位 UInt 的移位寄存器。\n",
    "*gen* 还允许 Scala 编译器推断类型 T——如果你想更具体地写，可以写 `new ShiftRegister[UInt](UInt(4.W))`，但如果你省略 [UInt]，Scala 编译器足够聪明，可以自己找出答案。"
   ]
  },
  {
   "cell_type": "code",
   "execution_count": null,
   "metadata": {},
   "outputs": [],
   "source": [
    "class ShiftRegisterIO[T <: Data](gen: T, n: Int) extends Bundle {\n",
    "    require (n >= 0, \"Shift register must have non-negative shift\")\n",
    "    \n",
    "    val in = Input(gen)\n",
    "    val out = Output(Vec(n + 1, gen)) // + 1 because in is included in out\n",
    "    override def cloneType: this.type = (new ShiftRegisterIO(gen, n)).asInstanceOf[this.type]\n",
    "}\n",
    "\n",
    "class ShiftRegister[T <: Data](gen: T, n: Int) extends Module {\n",
    "    val io = IO(new ShiftRegisterIO(gen, n))\n",
    "    \n",
    "    io.out.foldLeft(io.in) { case (in, out) =>\n",
    "        out := in\n",
    "        RegNext(in)\n",
    "    }\n",
    "}\n",
    "\n",
    "visualize(() => new ShiftRegister(SInt(6.W), 3))\n",
    "test(new ShiftRegister(SInt(6.W), 3)) { c => \n",
    "    println(s\"Testing ShiftRegister of type ${c.io.in} and depth ${c.io.out.length}\")\n",
    "    for (i <- 0 until 10) {\n",
    "        c.io.in.poke(i.S) // magic literal creation\n",
    "        println(s\"$i: ${c.io.out.indices.map { index => c.io.out(index).peek().litValue} }\")\n",
    "        c.clock.step(1)\n",
    "    }}"
   ]
  },
  {
   "attachments": {},
   "cell_type": "markdown",
   "metadata": {},
   "source": [
    "我们通常建议避免将继承与类型泛型一起使用。\n",
    "正确使用它可能非常棘手，并且很快会让人感到沮丧。"
   ]
  },
  {
   "attachments": {},
   "cell_type": "markdown",
   "metadata": {},
   "source": [
    "## Type Generics with Typeclasses（类型类）\n",
    "\n",
    "上面的示例仅限于可以对任何 `Data` 实例执行的简单操作，例如 `:=` 或 `RegNext()`。\n",
    "在生成 DSP 电路时，我们希望进行诸如加法和乘法的数学运算。\n",
    "`dsptools` 库提供了编写类型参数化 DSP 生成器的工具。\n",
    "\n",
    "这里是编写乘法累加模块的示例。\n",
    "它可以用于生成 `FixedPoint`、`SInt` 甚至 `DspComplex[T]`（由 `dsptools` 提供的复数类型）的乘法累加（MAC）。\n",
    "类型边界的语法有点不同，因为 `dsptools` 使用了类型类。\n",
    "它们超出了此笔记本的范围。\n",
    "请阅读 `dsptools` 的readme和文档，以获取有关使用类型类的更多信息。\n",
    "\n",
    "`T <: Data : Ring` 意味着 `T` 是 `Data` 的子类型，同时也是一个 `Ring`。\n",
    "`Ring` 在 `dsptools` 中定义为具有 `+` 和 `*` 运算（以及其他操作）的数字。\n",
    "\n",
    "_`Ring` 的替代方案是 `Real`，但这不允许我们为 `DspComplex()` 创建 MAC，因为复数不是 `Real`。_"
   ]
  },
  {
   "cell_type": "code",
   "execution_count": null,
   "metadata": {},
   "outputs": [],
   "source": [
    "import chisel3.experimental._\n",
    "import dsptools.numbers._\n",
    "\n",
    "class Mac[T <: Data : Ring](genIn : T, genOut: T) extends Module {\n",
    "    val io = IO(new Bundle {\n",
    "        val a = Input(genIn)\n",
    "        val b = Input(genIn)\n",
    "        val c = Input(genIn)\n",
    "        val out = Output(genOut)\n",
    "    })\n",
    "    io.out := io.a * io.b + io.c\n",
    "}\n",
    "\n",
    "println(getVerilog(new Mac(UInt(4.W), UInt(6.W)) ))\n",
    "println(getVerilog(new Mac(SInt(4.W), SInt(6.W)) ))\n",
    "println(getVerilog(new Mac(FixedPoint(4.W, 3.BP), FixedPoint(6.W, 4.BP))))\n"
   ]
  },
  {
   "attachments": {},
   "cell_type": "markdown",
   "metadata": {},
   "source": [
    "<span style=\"color:red\">**练习：Mac 作为对象**</span><br>\n",
    "\n",
    "Mac `Module` 有少量输入和一个输出。\n",
    "对于其他 Chisel 生成器来说，编写如下代码可能很方便：\n",
    "```scala\n",
    "val out = Mac(a, b, c)\n",
    "```\n",
    "\n",
    "在下面的 `Mac` 伴生对象中实现一个 `apply` 方法，该方法实现 `Mac` 功能。"
   ]
  },
  {
   "cell_type": "code",
   "execution_count": null,
   "metadata": {},
   "outputs": [],
   "source": [
    "object Mac {\n",
    "    def apply[T <: Data : Ring](a: T, b: T, c: T): T = {\n",
    "        ??? // your code\n",
    "    }\n",
    "}\n",
    "\n",
    "class MacTestModule extends Module {\n",
    "    val io = IO(new Bundle {\n",
    "        val uin = Input(UInt(4.W))\n",
    "        val uout = Output(UInt())\n",
    "        val sin = Input(SInt(4.W))\n",
    "        val sout = Output(SInt())\n",
    "        //val fin = Input(FixedPoint(16.W, 12.BP))\n",
    "        //val fout = Output(FixedPoint())\n",
    "    })\n",
    "    // for each IO pair, do out = in * in + in\n",
    "    io.uout := Mac(io.uin, io.uin, io.uin)\n",
    "    io.sout := Mac(io.sin, io.sin, io.sin)\n",
    "    //io.fout := Mac(io.fin, io.fin, io.fin)\n",
    "}\n",
    "println(getVerilog(new MacTestModule))"
   ]
  },
  {
   "attachments": {},
   "cell_type": "markdown",
   "metadata": {},
   "source": [
    "<div id=\"container\"><section id=\"accordion\"><div>\n",
    "<input type=\"checkbox\" id=\"check-1\" />\n",
    "<label for=\"check-1\"><strong>Solution</strong> (click to toggle displaying)</label>\n",
    "<article>\n",
    "<pre style=\"background-color:#f7f7f7\">\n",
    "\n",
    "        a * b + c\n",
    "\n",
    "</pre></article></div></section></div>"
   ]
  },
  {
   "attachments": {},
   "cell_type": "markdown",
   "metadata": {},
   "source": [
    "<span style=\"color:red\">**练习：积分器**</span><br>\n",
    "如图所示实现一个积分器。$n_1$ 是 `genReg` 的宽度，$n_2$ 是 `genIn` 的宽度。\n",
    "\n",
    "不要忘记，`Reg`、`RegInit`、`RegNext`、`RegEnable` 等都是为类型 `T <: Data` 模板化的。\n",
    "\n",
    "<img src=\"images/integrator.svg\" alt=\"Integrator\" style=\"width: 250px;\"/>"
   ]
  },
  {
   "cell_type": "code",
   "execution_count": null,
   "metadata": {},
   "outputs": [],
   "source": [
    "class Integrator[T <: Data : Ring](genIn: T, genReg: T) extends Module {\n",
    "    val io = IO(new Bundle {\n",
    "        val in  = Input(genIn)\n",
    "        val out = Output(genReg)\n",
    "    })\n",
    "    \n",
    "    ??? // your code\n",
    "}\n",
    "\n",
    "test(new Integrator(SInt(4.W), SInt(8.W))) { c =>\n",
    "    c.io.in.poke(3.S)\n",
    "    c.io.out.expect(0.S)\n",
    "    c.clock.step(1)\n",
    "    c.io.in.poke(-4.S)\n",
    "    c.io.out.expect(3.S)\n",
    "    c.clock.step(1)\n",
    "    c.io.in.poke(6.S)\n",
    "    c.io.out.expect(-1.S)\n",
    "    c.clock.step(1)\n",
    "    c.io.out.expect(5.S)\n",
    "}"
   ]
  },
  {
   "attachments": {},
   "cell_type": "markdown",
   "metadata": {},
   "source": [
    "<div id=\"container\"><section id=\"accordion\"><div>\n",
    "<input type=\"checkbox\" id=\"check-2\" />\n",
    "<label for=\"check-2\"><strong>Solution</strong> (click to toggle displaying)</label>\n",
    "<article>\n",
    "<pre style=\"background-color:#f7f7f7\">\n",
    "\n",
    "class Integrator\\[T <: Data : Ring\\](genIn: T, genReg: T) extends Module {\n",
    "    val io = IO(new Bundle {\n",
    "        val in  = Input(genIn.cloneType)\n",
    "        val out = Output(genReg.cloneType)\n",
    "    })\n",
    "    \n",
    "    val reg = RegInit(genReg, Ring[T].zero) // init to zero\n",
    "    reg := reg + io.in\n",
    "    io.out := reg\n",
    "}\n",
    "\n",
    "</pre></article></div></section></div>"
   ]
  },
  {
   "attachments": {},
   "cell_type": "markdown",
   "metadata": {},
   "source": [
    "---\n",
    "# Creating a Custom Type<a name=\"creating-a-custom-type\"></a>\n",
    "\n",
    "使 Chisel 强大的一个因素是它的可扩展性。\n",
    "你可以添加自己的类型，这些类型具有适合你应用的操作和表示。\n",
    "本节将介绍制作自定义类型的方法。"
   ]
  },
  {
   "attachments": {},
   "cell_type": "markdown",
   "metadata": {},
   "source": [
    "<span style=\"color:blue\">**示例：DspComplex**</span><br>\n",
    "`DspComplex` 是在 **dsptools** 中定义的自定义数据类型，定义在 [这里](https://github.com/ucb-bar/dsptools/blob/v1.0.0/src/main/scala/dsptools/numbers/chisel_concrete/DspComplex.scala#L59)。\n",
    "关键的一行代码是：\n",
    "```scala\n",
    "class DspComplex[T <: Data:Ring](val real: T, val imag: T) extends Bundle { ... }\n",
    "```\n",
    "\n",
    "`DspComplex` 是一个类型泛型容器。\n",
    "这意味着复数的实部和虚部可以是任何类型，只要它们满足类型约束 `T <: Data : Ring`。\n",
    "\n",
    "`T <: Data` 意味着 `T` 是 `chisel3.Data` 的子类型，这是 Chisel 对象的基类型。\n",
    "这意味着 `DspComplex` 仅适用于 Chisel 类型的对象，而不是任意的 Scala 类型。\n",
    "\n",
    "`T : Ring` 意味着存在 `T` 的 Ring 类型类实现。\n",
    "`Ring` 类型类定义了 `+` 和 `*` 运算符以及加法和乘法恒等元素（有关环的详细信息，请参阅[这篇维基百科文章](https://en.wikipedia.org/wiki/Ring_(mathematics))）。\n",
    "**dsptools** 为常用的 Chisel 类型定义了类型类，定义在 [这里](https://github.com/ucb-bar/dsptools/tree/v1.0.0/src/main/scala/dsptools/numbers/chisel_types)。\n",
    "\n",
    "**dsptools** 还为 `DspComplex` 定义了一个 `Ring` 类型类，因此我们可以使用复数重用我们的 MAC 生成器："
   ]
  },
  {
   "cell_type": "code",
   "execution_count": null,
   "metadata": {},
   "outputs": [],
   "source": [
    "println(getVerilog(new Mac(DspComplex(SInt(4.W), SInt(4.W)), DspComplex(SInt(6.W), SInt(6.W))) ))"
   ]
  },
  {
   "attachments": {},
   "cell_type": "markdown",
   "metadata": {},
   "source": [
    "<span style=\"color:red\">**练习：符号-幅度数（Sign-magnitude Numbers）**</span><br>\n",
    "假设你想使用符号-幅度表示法，并希望重用所有的 DSP 生成器。\n",
    "类型类使这种临时多态成为可能。\n",
    "以下示例给出了 SignMagnitude 类型的实现开端，以及一个 `Ring` 类型类的实现，该类型类将允许与 Mac 生成器一起使用。\n",
    "\n",
    "填写 `+` 和 `*` 的实现。\n",
    "你应该模仿 `unary_-()` 的实现。\n",
    "下一块包含一个测试，用于检查使用 `SignMagnitude` 的 `Mac` 的正确性。"
   ]
  },
  {
   "cell_type": "code",
   "execution_count": null,
   "metadata": {},
   "outputs": [],
   "source": [
    "class SignMagnitude(val magnitudeWidth: Option[Int] = None) extends Bundle {\n",
    "    val sign = Bool()\n",
    "    val magnitude = magnitudeWidth match {\n",
    "        case Some(w) => UInt(w.W)\n",
    "        case None    => UInt()\n",
    "    }\n",
    "    def +(that: SignMagnitude): SignMagnitude = {\n",
    "        // Implement this!\n",
    "    }\n",
    "    def -(that: SignMagnitude): SignMagnitude = {\n",
    "        this.+(-that)\n",
    "    }\n",
    "    def unary_-(): SignMagnitude = {\n",
    "        val result = Wire(new SignMagnitude())\n",
    "        result.sign := !this.sign\n",
    "        result.magnitude := this.magnitude\n",
    "        result\n",
    "    }\n",
    "    def *(that: SignMagnitude): SignMagnitude = {\n",
    "        // Implement this!\n",
    "    }\n",
    "}\n",
    "trait SignMagnitudeRing extends Ring[SignMagnitude] {\n",
    "    def plus(f: SignMagnitude, g: SignMagnitude): SignMagnitude = {\n",
    "        f + g\n",
    "    }\n",
    "    def times(f: SignMagnitude, g: SignMagnitude): SignMagnitude = {\n",
    "        f * g\n",
    "    }\n",
    "    def one: SignMagnitude = {\n",
    "        val one = Wire(new SignMagnitude(Some(1)))\n",
    "        one.sign := false.B\n",
    "        one.magnitude := 1.U\n",
    "        one\n",
    "    }\n",
    "    def zero: SignMagnitude = {\n",
    "        val zero = Wire(new SignMagnitude(Some(0)))\n",
    "        zero.sign := false.B\n",
    "        zero.magnitude := 0.U\n",
    "        zero\n",
    "    }\n",
    "    def negate(f: SignMagnitude): SignMagnitude = {\n",
    "        -f\n",
    "    }\n",
    "    \n",
    "    // Leave unimplemented for this example\n",
    "    def minusContext(f: SignMagnitude, g: SignMagnitude): SignMagnitude = ???\n",
    "    def negateContext(f: SignMagnitude): SignMagnitude = ???\n",
    "    def plusContext(f: SignMagnitude,g: SignMagnitude): SignMagnitude = ???\n",
    "    def timesContext(f: SignMagnitude,g: SignMagnitude): SignMagnitude = ???\n",
    "}\n",
    "implicit object SignMagnitudeRingImpl extends SignMagnitudeRing"
   ]
  },
  {
   "cell_type": "code",
   "execution_count": null,
   "metadata": {},
   "outputs": [],
   "source": [
    "import chisel3.experimental.BundleLiterals._\n",
    "\n",
    "test(new Mac(new SignMagnitude(Some(4)), new SignMagnitude(Some(5)))) { c =>\n",
    "    c.io.a.poke(chiselTypeOf(c.io.a).Lit(_.sign -> false.B, _.magnitude -> 3.U))\n",
    "    c.io.b.poke(chiselTypeOf(c.io.b).Lit(_.sign -> false.B, _.magnitude -> 3.U))\n",
    "    c.io.c.poke(chiselTypeOf(c.io.c).Lit(_.sign -> false.B, _.magnitude -> 2.U))\n",
    "    c.io.out.expect(chiselTypeOf(c.io.out).Lit(_.sign -> false.B, _.magnitude -> 11.U))\n",
    "\n",
    "    c.io.c.sign.poke(true.B)\n",
    "    c.io.out.expect(chiselTypeOf(c.io.out).Lit(_.sign -> false.B, _.magnitude -> 7.U))\n",
    "\n",
    "    c.io.b.sign.poke(true.B)\n",
    "    c.io.out.expect(chiselTypeOf(c.io.out).Lit(_.sign -> true.B, _.magnitude -> 11.U))\n",
    "}\n",
    "println(\"SUCCESS!!\") // Scala Code: if we get here, our tests passed!"
   ]
  },
  {
   "attachments": {},
   "cell_type": "markdown",
   "metadata": {},
   "source": [
    "Look at the verilog to see if the output looks reasonable:"
   ]
  },
  {
   "cell_type": "code",
   "execution_count": null,
   "metadata": {},
   "outputs": [],
   "source": [
    "println(getVerilog(new Mac(new SignMagnitude(Some(4)), new SignMagnitude(Some(5)))))"
   ]
  },
  {
   "attachments": {},
   "cell_type": "markdown",
   "metadata": {},
   "source": [
    "`SignMagnitude` even works with `DspComplex`!"
   ]
  },
  {
   "cell_type": "code",
   "execution_count": null,
   "metadata": {},
   "outputs": [],
   "source": [
    "println(getVerilog(new Mac(DspComplex(new SignMagnitude(Some(4)), new SignMagnitude(Some(4))), DspComplex(new SignMagnitude(Some(5)), new SignMagnitude(Some(5))))))"
   ]
  },
  {
   "attachments": {},
   "cell_type": "markdown",
   "metadata": {},
   "source": [
    "<div id=\"container\"><section id=\"accordion\"><div>\n",
    "<input type=\"checkbox\" id=\"check-3\" />\n",
    "<label for=\"check-3\"><strong>Solution</strong> (click to toggle displaying)</label>\n",
    "<article>\n",
    "<pre style=\"background-color:#f7f7f7\">\n",
    "    // implementations for class SignMagnitude\n",
    "\n",
    "    def +(that: SignMagnitude): SignMagnitude = {\n",
    "      val result = Wire(new SignMagnitude())\n",
    "      val signsTheSame = this.sign === that.sign\n",
    "      when (signsTheSame) {\n",
    "        result.sign      := this.sign\n",
    "        result.magnitude := this.magnitude + that.magnitude\n",
    "      } .otherwise {\n",
    "        when (this.magnitude > that.magnitude) {\n",
    "          result.sign      := this.sign\n",
    "          result.magnitude := this.magnitude - that.magnitude\n",
    "        } .otherwise {\n",
    "          result.sign      := that.sign\n",
    "          result.magnitude := that.magnitude - this.magnitude\n",
    "        }   \n",
    "      }   \n",
    "      result\n",
    "    }\n",
    "    def *(that: SignMagnitude): SignMagnitude = {\n",
    "        val result = Wire(new SignMagnitude())\n",
    "        result.sign := this.sign ^ that.sign\n",
    "        result.magnitude := this.magnitude * that.magnitude\n",
    "        result\n",
    "    }\n",
    "\n",
    "\n",
    "</pre></article></div></section></div>"
   ]
  }
 ],
 "metadata": {
  "kernelspec": {
   "display_name": "Scala",
   "language": "scala",
   "name": "scala"
  },
  "language_info": {
   "codemirror_mode": "text/x-scala",
   "file_extension": ".scala",
   "mimetype": "text/x-scala",
   "name": "scala",
   "nbconvert_exporter": "script",
   "version": "2.12.10"
  }
 },
 "nbformat": 4,
 "nbformat_minor": 1
}
