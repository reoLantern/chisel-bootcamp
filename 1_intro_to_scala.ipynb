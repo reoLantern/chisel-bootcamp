{
 "cells": [
  {
   "cell_type": "markdown",
   "metadata": {},
   "source": [
    "<a name=\"top\"></a><img src=\"images/chisel_1024.png\" alt=\"Chisel logo\" style=\"width:480px;\" />"
   ]
  },
  {
   "cell_type": "markdown",
   "metadata": {},
   "source": [
    "# Module 1: Introduction to Scala\n",
    "**Next: [Your First Chisel Module](2.1_first_module.ipynb)**\n",
    "\n",
    "## Motivation\n",
    "These tutorials use the *Jupyter* notebook environment so you can read code, make changes, and then run code snippets in place. We encourage you to experiment with tutorial code blocks to speed your way to Chisel mastery.\n",
    "\n",
    "In this first module, you will learn how to write basic Scala code and how to read more advanced Scala code."
   ]
  },
  {
   "cell_type": "markdown",
   "metadata": {},
   "source": [
    "---\n",
    "# Understanding Scala\n",
    "Scala is yet another programming language which supports common programming paradigms. We chose to use it for several reasons:\n",
    "\n",
    "- It is a good language for hosting an embedded DSL.\n",
    "- It has a powerful and elegant library for manipulating various collections of data.\n",
    "- It has a rigorous type system that helps catch a large class of errors very early in the development cycle, i.e. at compilation.\n",
    "- It has powerful ways of expressing and passing functions.\n",
    "- Chi*p*el, Chi*j*el, and Chi*c*el don't roll off the tongue as nicely as Chisel does.\n",
    "\n",
    "All of these points will become apparent as we talk about Chisel later, but for now, we are going to focus on the basics of reading and writing Scala code."
   ]
  },
  {
   "cell_type": "markdown",
   "metadata": {},
   "source": [
    "---\n",
    "# Variables and Constants - var and val\n",
    "用来创建（可变）变量和常量（不可变变量）的语句分别以关键词*var*和*val*开头。通常情况下，我们会尽可能使用*val*。为什么？主要是为了减少在容易出错或使代码难以阅读的情况下重复使用变量的可能性。Scala的结构使这种做法比你想象的更容易实现。\n",
    "\n",
    "<span style=\"color:blue\">**例子:**</span><br>\n",
    "下面的代码块可以直接在此笔记本中执行。要运行它，请点击它使其处于焦点状态。当单元格激活时，左侧会出现一个带有绿色条的框。选择该单元格后，可以使用笔记本顶部的**播放**按钮（为便于参考，已在下图中用红色突出显示）来运行该*代码块*单元。\n",
    "\n",
    "![](images/playbutton.png)\n",
    "\n",
    "或者，你也可以使用键盘快捷键。**Shift+Enter**运行当前激活的单元格，并将焦点移动到下一个单元格。**Ctrl+Enter**运行当前单元格并保持其焦点不变。\n",
    "\n",
    "关键示例以蓝色和粗体的<span style=\"color:blue\">**例子**</span>开头，而练习则以红色的<span style=\"color:red\">**练习**</span>开头。模块1完全由简短的示例组成，因此我们在本模块的其余部分省略了示例声明。"
   ]
  },
  {
   "cell_type": "code",
   "execution_count": null,
   "metadata": {},
   "outputs": [],
   "source": [
    "var numberOfKittens = 6\n",
    "val kittensPerHouse = 101\n",
    "val alphabet = \"abcdefghijklmnopqrstuvwxyz\"\n",
    "var done = false"
   ]
  },
  {
   "cell_type": "markdown",
   "metadata": {},
   "source": [
    "首先要注意的一点是，与Java和C不同，Scala通常不需要在语句末尾使用分号。Scala在换行时会推断分号。例如，当行末是一个需要额外代码的操作符时，它通常可以判断一个语句是否跨多行。唯一需要分号的时候是当你想把多个语句放在一行时。\n",
    "\n",
    "变量的使用方式很明显。两个`var`可以重新赋值，而两个`val`在创建后是不可变的。"
   ]
  },
  {
   "cell_type": "code",
   "execution_count": null,
   "metadata": {},
   "outputs": [],
   "source": [
    "numberOfKittens += 1\n",
    "\n",
    "// kittensPerHouse = kittensPerHouse * 2 // This would not compile; kittensPerHouse is not updatable\n",
    "\n",
    "println(alphabet)\n",
    "done = true"
   ]
  },
  {
   "cell_type": "markdown",
   "metadata": {},
   "source": [
    "---\n",
    "# Conditionals\n",
    "\n",
    "Scala implements conditionals like other programming languages."
   ]
  },
  {
   "cell_type": "code",
   "execution_count": null,
   "metadata": {},
   "outputs": [],
   "source": [
    "// A simple conditional; by the way, this is a comment\n",
    "if (numberOfKittens > kittensPerHouse) { \n",
    "    println(\"Too many kittens!!!\") \n",
    "}\n",
    "// The braces are not required when all branches are one liners. However, the \n",
    "// Scala Style Guide prefers brace omission only if an \"else\" clause is included.\n",
    "// (Preferably not this, even though it compiles...)\n",
    "if (numberOfKittens > kittensPerHouse) \n",
    "    println(\"Too many kittens!!!\")\n",
    "\n",
    "// ifs have else clauses, of course\n",
    "// This is where you can omit braces!\n",
    "if (done) \n",
    "    println(\"we are done\")\n",
    "else \n",
    "    numberOfKittens += 1\n",
    "\n",
    "// And else ifs\n",
    "// For style, keep braces because not all branches are one liners. \n",
    "if (done) {\n",
    "    println(\"we are done\")\n",
    "}\n",
    "else if (numberOfKittens < kittensPerHouse) {\n",
    "    println(\"more kittens!\")\n",
    "    numberOfKittens += 1\n",
    "}\n",
    "else {\n",
    "    done = true\n",
    "}"
   ]
  },
  {
   "cell_type": "markdown",
   "metadata": {},
   "source": [
    "但在Scala中，\"`if`\"条件语句会返回一个值。这个值是什么呢？它由所选分支的最后一行代码决定。这种特性非常强大，尤其是在用于初始化函数和类中的值时。其形式如下："
   ]
  },
  {
   "cell_type": "code",
   "execution_count": null,
   "metadata": {},
   "outputs": [],
   "source": [
    "val likelyCharactersSet = if (alphabet.length == 26)\n",
    "    \"english\"\n",
    "else \n",
    "    \"not english\"\n",
    "\n",
    "println(likelyCharactersSet)"
   ]
  },
  {
   "cell_type": "markdown",
   "metadata": {},
   "source": [
    "We created a constant *likelyCharactersSet* whose value is conditionally determined at runtime."
   ]
  },
  {
   "cell_type": "markdown",
   "metadata": {},
   "source": [
    "---\n",
    "# Methods (Functions)\n",
    "\n",
    "方法使用关键字`def`定义。在这里，我们也可以不严格区分术语，将它们称为函数。函数参数（或参数列表）以逗号分隔，指定参数的名称、类型，并可选地指定其默认值。为了清晰起见，应该指定返回类型。\n",
    "\n",
    "没有参数的Scala函数不需要使用空圆括号。这通常会让开发者在类的成员因为某些计算而成为一个函数时变得更轻松。按照惯例，没有副作用（即调用它们不会改变任何东西，只是简单地返回一个值）的无参数函数不使用圆括号，而有副作用（例如它们可能会改变类变量或打印内容）的函数则需要使用圆括号。\n",
    "\n",
    "## Simple Declarations"
   ]
  },
  {
   "cell_type": "code",
   "execution_count": null,
   "metadata": {},
   "outputs": [],
   "source": [
    "// Simple scaling function with an input argument, e.g., times2(3) returns 6\n",
    "// Curly braces can be omitted for short one-line functions.\n",
    "def times2(x: Int): Int = 2 * x\n",
    "\n",
    "// More complicated function\n",
    "def distance(x: Int, y: Int, returnPositive: Boolean): Int = {\n",
    "    val xy = x * y\n",
    "    if (returnPositive) xy.abs else -xy.abs\n",
    "}"
   ]
  },
  {
   "cell_type": "markdown",
   "metadata": {},
   "source": [
    "## Overloading Functions\n",
    "同一个函数名称可以以多种方式使用。参数及其类型决定了一个签名，使编译器能够确定应该调用哪个版本的函数。不过，应尽量避免使用重载函数。"
   ]
  },
  {
   "cell_type": "code",
   "execution_count": null,
   "metadata": {},
   "outputs": [],
   "source": [
    "// Overloaded function\n",
    "def times2(x: Int): Int = 2 * x\n",
    "def times2(x: String): Int = 2 * x.toInt\n",
    "\n",
    "times2(5)\n",
    "times2(\"7\")"
   ]
  },
  {
   "cell_type": "markdown",
   "metadata": {},
   "source": [
    "## Recursive and Nested Functions\n",
    "花括号定义代码的作用域。在一个函数的作用域内可能存在更多的函数或递归函数调用。在特定作用域内定义的函数仅在该作用域内可访问。"
   ]
  },
  {
   "cell_type": "code",
   "execution_count": null,
   "metadata": {},
   "outputs": [],
   "source": [
    "/** Prints a triangle made of \"X\"s\n",
    "  * This is another style of comment\n",
    "  */\n",
    "def asciiTriangle(rows: Int) {\n",
    "    \n",
    "    // This is cute: multiplying \"X\" makes a string with many copies of \"X\"\n",
    "    def printRow(columns: Int): Unit = println(\"X\" * columns)\n",
    "    \n",
    "    if(rows > 0) {\n",
    "        printRow(rows)\n",
    "        asciiTriangle(rows - 1) // Here is the recursive call\n",
    "    }\n",
    "}\n",
    "\n",
    "// printRow(1) // This would not work, since we're calling printRow outside its scope\n",
    "asciiTriangle(6)"
   ]
  },
  {
   "cell_type": "markdown",
   "metadata": {},
   "source": [
    "---\n",
    "# Lists\n",
    "Scala 实现了多种聚合或序列对象。Lists 很像数组，但支持附加和提取的额外操作。"
   ]
  },
  {
   "cell_type": "code",
   "execution_count": null,
   "metadata": {},
   "outputs": [],
   "source": [
    "val x = 7\n",
    "val y = 14\n",
    "val list1 = List(1, 2, 3)\n",
    "val list2 = x :: y :: y :: Nil       // An alternate notation for assembling a list\n",
    "\n",
    "val list3 = list1 ++ list2           // Appends the second list to the first list\n",
    "val m = list2.length\n",
    "val s = list2.size\n",
    "\n",
    "val headOfList = list1.head          // Gets the first element of the list\n",
    "val restOfList = list1.tail          // Get a new list with first element removed\n",
    "\n",
    "val third = list1(2)                 // Gets the third element of a list (0-indexed)"
   ]
  },
  {
   "cell_type": "markdown",
   "metadata": {},
   "source": [
    "---\n",
    "# `for` Statement\n",
    "\n",
    "Scala 有`for`语句，其工作方式类似于传统的for语句。你可以遍历一个值的范围。"
   ]
  },
  {
   "cell_type": "code",
   "execution_count": null,
   "metadata": {},
   "outputs": [],
   "source": [
    "for (i <- 0 to 7) { print(i + \" \") }\n",
    "println()   // Print \"0 1 2 3 4 5 6 7 \""
   ]
  },
  {
   "cell_type": "markdown",
   "metadata": {},
   "source": [
    "Use `until` instead of `to` for iterating from 0 to 6 (7 is not included). "
   ]
  },
  {
   "cell_type": "code",
   "execution_count": null,
   "metadata": {},
   "outputs": [],
   "source": [
    "for (i <- 0 until 7) { print(i + \" \") }\n",
    "println()   // Print \"0 1 2 3 4 5 6 \""
   ]
  },
  {
   "cell_type": "markdown",
   "metadata": {},
   "source": [
    "Add a `by` to increment by some fixed amount. The following prints out the even integers between 0 and 10."
   ]
  },
  {
   "cell_type": "code",
   "execution_count": null,
   "metadata": {},
   "outputs": [],
   "source": [
    "for(i <- 0 to 10 by 2) { print(i + \" \") }\n",
    "println()   // Print \"0 2 4 6 8 10 \""
   ]
  },
  {
   "cell_type": "markdown",
   "metadata": {},
   "source": [
    "如果你有某种集合并想访问所有元素，可以像在 Java 和 Python 中一样使用 `for` 作为*iterator*。这里我们生成一个包含4个随机整数的列表，然后对它们求和。"
   ]
  },
  {
   "cell_type": "code",
   "execution_count": null,
   "metadata": {},
   "outputs": [],
   "source": [
    "val randomList = List(scala.util.Random.nextInt(), scala.util.Random.nextInt(), scala.util.Random.nextInt(), scala.util.Random.nextInt())\n",
    "var listSum = 0\n",
    "for (value <- randomList) {\n",
    "  listSum += value\n",
    "}\n",
    "println(\"sum is \" + listSum)"
   ]
  },
  {
   "cell_type": "markdown",
   "metadata": {},
   "source": [
    "Scala 的 `for` 还有很多技巧可以使用。它在广泛的传统迭代需求中可以直观地工作，但它可能不是最方便的使用方式。像对数组元素求和这样的操作，通常使用一种称为*comprehensions*的丰富函数族更容易完成，这些函数在许多不同的元素集合中都可用。后续模块将提供更多关于 `for` 及其相关内容的介绍。"
   ]
  },
  {
   "cell_type": "markdown",
   "metadata": {},
   "source": [
    "---\n",
    "# Reading Scala\n",
    "能够阅读Scala代码并理解常见的命名约定、设计模式和最佳实践是成为有效Chisel设计师的重要步骤。代码重用的潜力是Chisel的优势之一，但如果你不能阅读其他人的代码，重用就很困难。有效地解析他人的代码也使得寻求帮助更容易，尤其是像StackOverflow这样的资源。\n",
    "\n",
    "以下部分展示了你会看到的常见代码模式。"
   ]
  },
  {
   "cell_type": "markdown",
   "metadata": {},
   "source": [
    "---\n",
    "# Packages and Imports \n",
    "\n",
    "```scala\n",
    "package mytools\n",
    "class Tool1 { ... }\n",
    "```\n",
    "\n",
    "当从外部引用包含上述代码的文件中定义的代码时，应使用：\n",
    "\n",
    "```scala\n",
    "import mytools.Tool1\n",
    "```\n",
    "\n",
    "注意：包名**应该**与目录层次结构匹配。这不是强制性的，但不遵守此准则可能会导致一些不寻常且难以诊断的问题。按惯例，包名应为小写，并且不包含下划线等分隔符。这有时会使得描述性良好的名称变得困难。一种解决方法是添加一层层次结构，例如`package good.tools`。尽力而为。Chisel本身在包名上也有一些不符合这些规则的做法。\n",
    "\n",
    "如上所示，`import`语句告知编译器你正在使用一些额外的库。在Chisel编程中，你会使用一些常见的导入：\n",
    "\n",
    "```scala\n",
    "import chisel3._\n",
    "import chisel3.iotesters.{ChiselFlatSpec, Driver, PeekPokeTester}\n",
    "```\n",
    "\n",
    "第一个导入chisel3包中的所有类和方法；此处的下划线作为通配符使用。第二个导入chisel3.iotesters包中的特定类。"
   ]
  },
  {
   "cell_type": "markdown",
   "metadata": {},
   "source": [
    "---\n",
    "# Scala Is an Object Oriented Language\n",
    "Scala 是面向对象的，理解这一点对于充分利用 Scala 和 Chisel 非常重要。请注意，毫无疑问，有不止一种方式来描述这一切。\n",
    "1. 变量是对象。\n",
    "2. 以*Scala*的`val`声明的常量也是对象。\n",
    "3. 甚至字面值也是对象。\n",
    "4. 甚至函数本身也是对象。稍后会详细介绍这一点。\n",
    "5. 对象是类的实例。\n",
    "   1. 实际上，在Scala中，在所有重要的方面，*面向对象*中的*object*都将被称为实例。\n",
    "6. 在定义类时，程序员需要指定：\n",
    "   1. 与类关联的数据（`val`, `var`）。\n",
    "   1. 类的实例可以执行的操作，称为方法或函数。\n",
    "7. 类可以扩展其他类。\n",
    "   1. 被扩展的类是超类；扩展的类是子类。\n",
    "   1. 在这种情况下，子类继承超类的数据和方法。\n",
    "   1. 有许多有用但受控的方式，使类可以扩展或覆盖继承的属性。\n",
    "8. 类可以继承自 traits。将 traits 视为轻量级类，允许以特定、有限的方式从多个超类继承。\n",
    "9. （单例）对象是一种特殊的Scala类。\n",
    "   1. 它们不是上述的对象。记住，我们将那些称为实例。\n",
    "\n",
    "我们即将学习如何在Scala中创建一个类。"
   ]
  },
  {
   "cell_type": "markdown",
   "metadata": {},
   "source": [
    "---\n",
    "# A Class Example\n",
    "An example of creating a Scala class might be"
   ]
  },
  {
   "cell_type": "code",
   "execution_count": null,
   "metadata": {},
   "outputs": [],
   "source": [
    "// WrapCounter counts up to a max value based on a bit size\n",
    "class WrapCounter(counterBits: Int) {\n",
    "\n",
    "  val max: Long = (1 << counterBits) - 1\n",
    "  var counter = 0L\n",
    "    \n",
    "  def inc(): Long = {\n",
    "    counter = counter + 1\n",
    "    if (counter > max) {\n",
    "        counter = 0\n",
    "    }\n",
    "    counter\n",
    "  }\n",
    "  println(s\"counter created with max value $max\")\n",
    "}\n"
   ]
  },
  {
   "cell_type": "markdown",
   "metadata": {},
   "source": [
    "这些内容如下：\n",
    "* ```class WrapCounter``` -- 这是 **WrapCounter** 的定义。\n",
    "* ```(counterBits: Int)``` -- 创建一个 WrapCounter 需要一个整数参数，名字很直观，表明它是计数器的位宽。\n",
    "* 花括号 ({}) 分隔代码块。大多数类使用代码块来定义变量、常量和方法（函数）。\n",
    "* `val max: Long =` -- 这个类包含一个成员变量 **max**，类型声明为 `Long`，并在类创建时初始化。\n",
    "* `(1 << counterBits) - 1` 计算可以容纳在 **counterBits** 位中的最大值。由于 **max** 是用 `val` 创建的，因此它不能被更改。\n",
    "* 一个变量 **counter** 被创建并初始化为 **0L**。**L** 表示0是一个长整数值，因此 **counter** 被推断为 Long 类型。\n",
    "* **max** 和 **counter** 通常称为类的成员变量。\n",
    "* 定义了一个类方法 **inc**，它不带参数并返回一个 **Long** 值。\n",
    "* **inc** 方法的主体是一个代码块，该代码块包含：\n",
    "  * `counter = counter + 1` 递增 **counter**。\n",
    "  * `if (counter > max) { counter = 0 }` 测试计数器是否大于 **max** 值，如果是，则将其重置为零。\n",
    "  * `counter` -- 代码块的最后一行很重要。\n",
    "    * 任何作为代码块最后一行的值都被视为该代码块的返回值。调用语句可以使用或忽略返回值。\n",
    "    * 这适用于非常普遍的情况；例如，由于 `if` then `else` 语句使用代码块定义其真和假的子句，它可以返回一个值，即 `val result = if (10 * 10 > 90) \"greater\" else \"lesser\"` 将创建一个值为 \"greater\" 的 `val`。\n",
    "  * 因此，在这种情况下，函数 **inc** 返回 **counter** 的值。\n",
    "* `println(s\"counter created with max value $max\")` 打印一条字符串到标准输出。因为 **println** 直接在定义代码块中，所以它是类初始化代码的一部分，并且每次创建这个类的实例时都会运行，即打印出字符串。\n",
    "* 在这种情况下打印的字符串是一个插值字符串。\n",
    "  * 第一个双引号前面的 **s** 表示这是一个插值字符串。\n",
    "  * 插值字符串在运行时处理。\n",
    "  * **\\$max** 被替换为 max 的值。\n",
    "  * 如果 **\\$** 后面跟着一个代码块，那么该代码块中可以包含任意的 Scala 代码。\n",
    "    * 例如，**`println(s\"doubled max is ${max + max}\")`**。\n",
    "    * 这个代码块的返回值将被插入到 `${...}` 的位置。\n",
    "    * 如果返回值不是字符串，它将被转换为字符串；Scala 中几乎每个类或类型都有一个隐式转换为字符串的定义。\n",
    "  * 通常应避免每次创建类的实例时都打印内容，以避免淹没标准输出，除非你在调试。"
   ]
  },
  {
   "cell_type": "markdown",
   "metadata": {},
   "source": [
    "---\n",
    "# Creating an Instance of a Class\n",
    "让我们使用上面的例子来创建一个类。Scala 实例是通过内置的魔法关键词 `new` 创建的。"
   ]
  },
  {
   "cell_type": "code",
   "execution_count": null,
   "metadata": {},
   "outputs": [],
   "source": [
    "val x = new WrapCounter(2)"
   ]
  },
  {
   "cell_type": "markdown",
   "metadata": {},
   "source": [
    "你可能会看到实例的创建不使用关键词 `new`，例如 `val y = WrapCounter(6)`。这种情况经常出现，值得特别注意，但它需要使用一个伴生对象。这将在后面进行描述。\n",
    "\n",
    "接下来给出刚创建的实例的示例用法。（尝试评估下面的代码单元两次。）"
   ]
  },
  {
   "cell_type": "code",
   "execution_count": null,
   "metadata": {},
   "outputs": [],
   "source": [
    "x.inc() // Increments the counter\n",
    "\n",
    "// Member variables of the instance x are visible to the outside, unless they are declared private\n",
    "if(x.counter == x.max) {              \n",
    "    println(\"counter is about to wrap\")\n",
    "}\n",
    "\n",
    "x inc() // Scala allows the dots to be omitted; this can be useful for making embedded DSL's look more natural"
   ]
  },
  {
   "cell_type": "markdown",
   "metadata": {},
   "source": [
    "---\n",
    "# Code Blocks\n",
    "代码块由花括号分隔。一个代码块可以包含零行或多行Scala代码。代码块的最后一行Scala代码成为代码块的返回值（可能会被忽略）。一个没有任何行的代码块将返回一个特殊的类似于null的对象，称为`Unit`。代码块在Scala中广泛使用：它们是类定义的主体，构成函数和方法定义，是`if`语句的子句，也是`for`和许多其他Scala操作符的主体。\n",
    "\n",
    "## Parameterized Code Blocks\n",
    "代码块可以带参数。在类和方法定义的情况下，这些参数看起来与大多数传统编程语言中的参数类似。在下面的例子中，`c`和`s`是代码块的参数。"
   ]
  },
  {
   "cell_type": "code",
   "execution_count": null,
   "metadata": {},
   "outputs": [],
   "source": [
    "// A one-line code block doesn't need to be enclosed in {}\n",
    "def add1(c: Int): Int = c + 1\n",
    "\n",
    "class RepeatString(s: String) {\n",
    "  val repeatedString = s + s\n",
    "}"
   ]
  },
  {
   "cell_type": "markdown",
   "metadata": {},
   "source": [
    "**重要**：还有另一种方式可以使代码块参数化。以下是一个例子。"
   ]
  },
  {
   "cell_type": "code",
   "execution_count": null,
   "metadata": {},
   "outputs": [],
   "source": [
    "val intList = List(1, 2, 3)\n",
    "val stringList = intList.map { i =>\n",
    "  i.toString\n",
    "}"
   ]
  },
  {
   "cell_type": "markdown",
   "metadata": {},
   "source": [
    "代码块被传递给类 List 的方法 `map`。`map` 方法要求其代码块有一个参数。代码块会对列表的每个成员调用，并返回该成员转换为字符串的结果。Scala 对这种语法的变体几乎有极大的接受度。你可能会看到这种代码以许多不同的方式编写。这种类型的代码块称为匿名函数，关于匿名函数的更多细节将在后续模块中提供。"
   ]
  },
  {
   "cell_type": "markdown",
   "metadata": {},
   "source": [
    "这里的目标是帮助你在遇到不同的记号类型时能够识别它们。随着你使用Scala，这些记号会变得更舒适和熟悉。作者往往会倾向于特定的风格，也有一些特定的语法情况，在这些情况下某种记号会显得更自然。单行代码往往使用更简洁的形式。复杂的代码块通常具有更叙述性的外观。为了使协作更容易，应考虑浏览[Scala Style Guide](http://docs.scala-lang.org/style/)中找到的最佳实践。"
   ]
  },
  {
   "cell_type": "markdown",
   "metadata": {},
   "source": [
    "---\n",
    "# Named Parameters and Parameter Defaults\n",
    "考虑以下方法定义。\n",
    "```scala\n",
    "def myMethod(count: Int, wrap: Boolean, wrapValue: Int = 24): Unit = { ... }\n",
    "```\n",
    "调用方法时，你经常会看到参数名称和传入的值一起使用。\n",
    "```scala\n",
    "myMethod(count = 10, wrap = false, wrapValue = 23)\n",
    "```\n",
    "使用命名参数，你甚至可以以不同的顺序调用函数。\n",
    "```scala\n",
    "myMethod(wrapValue = 23, wrap = false, count = 10)\n",
    "```\n",
    "对于频繁调用的方法，参数顺序可能是显而易见的。但对于不太常用的方法，尤其是布尔参数，包含名称的调用可以使你的代码更加可读。如果方法有一长串相同类型的参数，使用名称也可以减少出错的机会。类定义的参数也使用这种命名参数方案（它们实际上只是类构造方法的参数）。\n",
    "\n",
    "当某些参数有默认值（不需要被覆盖）时，调用者只需传递（通过名称）不使用默认值的特定参数。注意，参数 `wrapValue` 的默认值是 24。因此，\n",
    "\n",
    "```scala\n",
    "myMethod(wrap = false, count = 10)\n",
    "```\n",
    "的效果就像传递了 24 一样。"
   ]
  },
  {
   "cell_type": "markdown",
   "metadata": {},
   "source": [
    "---\n",
    "# You're done!\n",
    "\n",
    "[Return to the top.](#top)"
   ]
  }
 ],
 "metadata": {
  "kernelspec": {
   "display_name": "Scala",
   "language": "scala",
   "name": "scala"
  },
  "language_info": {
   "codemirror_mode": "text/x-scala",
   "file_extension": ".scala",
   "mimetype": "text/x-scala",
   "name": "scala",
   "nbconvert_exporter": "script",
   "version": "2.12.8"
  }
 },
 "nbformat": 4,
 "nbformat_minor": 2
}
