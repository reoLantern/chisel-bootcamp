{
 "cells": [
  {
   "cell_type": "markdown",
   "metadata": {},
   "source": [
    "<a name=\"top\"></a><img src=\"images/chisel_1024.png\" alt=\"Chisel logo\" style=\"width:480px;\" />"
   ]
  },
  {
   "cell_type": "markdown",
   "metadata": {},
   "source": [
    "# Module 2.4: Sequential Logic\n",
    "**Prev: [Control Flow](2.3_control_flow.ipynb)**<br>\n",
    "**Next: [FIR Filter](2.5_exercise.ipynb)**\n",
    "\n",
    "## Motivation\n",
    "没有状态，你就无法编写任何有意义的数字逻辑。没有状态，你就无法编写任何有意义的数字逻辑。没有状态，你就无法编写任何有意义的数字逻辑......\n",
    "\n",
    "明白了吗？因为如果不存储中间结果，你就无法取得任何进展。\n",
    "\n",
    "好吧，抛开这个冷笑话不谈，本模块将描述如何在 Chisel 中表达常见的时序模式。在本模块结束时，你应该能够在 Chisel 中实现和测试一个移位寄存器。\n",
    "\n",
    "需要强调的是，这一部分可能不会让你印象深刻。Chisel 的强大之处不在于新的时序逻辑模式，而在于设计的参数化。在我们展示这种能力之前，我们必须了解这些时序模式是什么。因此，这一部分将向你展示 Chisel 能做的几乎所有 Verilog 能做的事情——你只需要学习 Chisel 的语法。\n",
    "\n",
    "## Setup"
   ]
  },
  {
   "cell_type": "code",
   "execution_count": null,
   "metadata": {},
   "outputs": [],
   "source": [
    "val path = System.getProperty(\"user.dir\") + \"/source/load-ivy.sc\"\n",
    "interp.load.module(ammonite.ops.Path(java.nio.file.FileSystems.getDefault().getPath(path)))"
   ]
  },
  {
   "cell_type": "code",
   "execution_count": null,
   "metadata": {},
   "outputs": [],
   "source": [
    "import chisel3._\n",
    "import chisel3.util._\n",
    "import chisel3.tester._\n",
    "import chisel3.tester.RawTester.test"
   ]
  },
  {
   "cell_type": "markdown",
   "metadata": {},
   "source": [
    "---\n",
    "# Registers\n",
    "Chisel 中的基本有状态元素是寄存器，用 `Reg` 表示。\n",
    "一个 `Reg` 保持其输出值直到时钟的上升沿，此时它接受其输入的值。\n",
    "默认情况下，每个 Chisel `Module` 都有一个隐式时钟，设计中的每个寄存器都使用这个时钟。\n",
    "这可以避免你在代码中始终指定相同的时钟。\n",
    "\n",
    "<span style=\"color:blue\">**Example: Using a Register**</span><br>\n",
    "以下代码块实现了一个模块，该模块接受输入，增加 1，并将其连接为寄存器的输入。\n",
    "*注意：隐式时钟可以被覆盖以用于多时钟设计。请参阅附录中的示例。*"
   ]
  },
  {
   "cell_type": "code",
   "execution_count": null,
   "metadata": {},
   "outputs": [],
   "source": [
    "class RegisterModule extends Module {\n",
    "  val io = IO(new Bundle {\n",
    "    val in  = Input(UInt(12.W))\n",
    "    val out = Output(UInt(12.W))\n",
    "  })\n",
    "  \n",
    "  val register = Reg(UInt(12.W))\n",
    "  register := io.in + 1.U\n",
    "  io.out := register\n",
    "}\n",
    "\n",
    "test(new RegisterModule) { c =>\n",
    "  for (i <- 0 until 100) {\n",
    "    c.io.in.poke(i.U)\n",
    "    c.clock.step(1)\n",
    "    c.io.out.expect((i + 1).U)\n",
    "  }\n",
    "}\n",
    "println(\"SUCCESS!!\")"
   ]
  },
  {
   "cell_type": "markdown",
   "metadata": {},
   "source": [
    "寄存器通过调用 `Reg(tpe)` 创建，其中 `tpe` 是一个变量，用于编码我们想要的寄存器类型。\n",
    "在这个例子中，`tpe` 是一个 12 位的 `UInt`。\n",
    "\n",
    "看看上面的测试器在做什么。\n",
    "在调用 `poke()` 和 `expect` 之间，有一个 `step(1)` 的调用。\n",
    "这告诉测试框架时钟滴答一次，这将使寄存器将其输入传递到输出。\n",
    "\n",
    "调用 `step(n)` 将使时钟滴答 `n` 次。\n",
    "\n",
    "敏锐的观察者会注意到，以前测试组合逻辑的测试器没有调用 `step()`。这是因为在输入上调用 `poke()` 会立即通过组合逻辑传播更新的值。调用 `step()` 仅用于更新时序逻辑中的状态元素。\n",
    "\n",
    "下面的代码块将显示 `RegisterModule` 生成的 Verilog。\n",
    "\n",
    "注意：\n",
    "* 模块有一个时钟（和复位）输入，这是你没有添加的——这是隐式时钟\n",
    "* 变量 `register` 如预期那样显示为 `reg [11:0]`\n",
    "* 有一个由 `ifdef Randomize` 分隔的块，在仿真开始前将寄存器初始化为某个随机变量\n",
    "* `register` 在 `posedge clock` 上更新"
   ]
  },
  {
   "cell_type": "code",
   "execution_count": null,
   "metadata": {},
   "outputs": [],
   "source": [
    "println(getVerilog(new RegisterModule))"
   ]
  },
  {
   "cell_type": "markdown",
   "metadata": {},
   "source": [
    "一个重要的注意事项是 Chisel 区分类型（如 `UInt`）和硬件节点（如字面量 `2.U` 或 `myReg` 的输出）。虽然\n",
    "```scala\n",
    "val myReg = Reg(UInt(2.W))\n",
    "```\n",
    "是合法的，因为寄存器需要一个数据类型作为模型，\n",
    "```scala\n",
    "val myReg = Reg(2.U)\n",
    "```\n",
    "则是错误的，因为 `2.U` 已经是一个硬件节点，不能用作模型。"
   ]
  },
  {
   "cell_type": "markdown",
   "metadata": {},
   "source": [
    "<span style=\"color:blue\">**Example: RegNext**</span><br>\n",
    "Chisel 为具有简单输入连接的寄存器提供了一个方便的寄存器对象。之前的 `Module` 可以简化为以下 `Module`。注意这次我们不需要指定寄存器的位宽。它从寄存器的输出连接中推断出来，在这个例子中是 `io.out`。"
   ]
  },
  {
   "cell_type": "code",
   "execution_count": null,
   "metadata": {},
   "outputs": [],
   "source": [
    "class RegNextModule extends Module {\n",
    "  val io = IO(new Bundle {\n",
    "    val in  = Input(UInt(12.W))\n",
    "    val out = Output(UInt(12.W))\n",
    "  })\n",
    "  \n",
    "  // register bitwidth is inferred from io.out\n",
    "  io.out := RegNext(io.in + 1.U)\n",
    "}\n",
    "\n",
    "test(new RegNextModule) { c =>\n",
    "  for (i <- 0 until 100) {\n",
    "    c.io.in.poke(i.U)\n",
    "    c.clock.step(1)\n",
    "    c.io.out.expect((i + 1).U)\n",
    "  }\n",
    "}\n",
    "println(\"SUCCESS!!\")"
   ]
  },
  {
   "cell_type": "markdown",
   "metadata": {},
   "source": [
    "The Verilog looks almost the same as before, though the register name is generated instead of explicity defined."
   ]
  },
  {
   "cell_type": "code",
   "execution_count": null,
   "metadata": {},
   "outputs": [],
   "source": [
    "println(getVerilog(new RegNextModule))"
   ]
  },
  {
   "cell_type": "markdown",
   "metadata": {},
   "source": [
    "---\n",
    "# `RegInit`\n",
    "\n",
    "`RegisterModule` 中的寄存器被初始化为模拟的随机数据。\n",
    "除非另有说明，否则寄存器没有复位值（或复位）。\n",
    "创建一个复位到给定值的寄存器的方法是使用 `RegInit`。\n",
    "\n",
    "例如，一个初始化为零的12位寄存器可以用以下方式创建。\n",
    "以下两个版本都是有效的并且实现相同的功能：\n",
    "```scala\n",
    "val myReg = RegInit(UInt(12.W), 0.U)\n",
    "val myReg = RegInit(0.U(12.W))\n",
    "```\n",
    "\n",
    "第一个版本有两个参数。\n",
    "第一个参数是一个类型节点，指定数据类型及其宽度。\n",
    "第二个参数是一个硬件节点，指定复位值，在本例中为0。\n",
    "\n",
    "第二个版本有一个参数。\n",
    "它是一个硬件节点，指定复位值，通常是 `0.U`。\n",
    "\n",
    "<span style=\"color:blue\">**Example: Initialized Register** </span><br>\n",
    "下面演示了使用 `RegInit()`，初始化为零。"
   ]
  },
  {
   "cell_type": "code",
   "execution_count": null,
   "metadata": {},
   "outputs": [],
   "source": [
    "class RegInitModule extends Module {\n",
    "  val io = IO(new Bundle {\n",
    "    val in  = Input(UInt(12.W))\n",
    "    val out = Output(UInt(12.W))\n",
    "  })\n",
    "  \n",
    "  val register = RegInit(0.U(12.W))\n",
    "  register := io.in + 1.U\n",
    "  io.out := register\n",
    "}\n",
    "\n",
    "println(getVerilog(new RegInitModule))"
   ]
  },
  {
   "cell_type": "markdown",
   "metadata": {},
   "source": [
    "请注意，生成的 Verilog 现在有一个检查 `if (reset)` 的块，用于将寄存器复位为 0。\n",
    "还要注意，这在 `always @(posedge clock)` 块内。\n",
    "Chisel 的隐式复位是高电平有效且同步的。\n",
    "在调用复位之前，寄存器仍会初始化为随机数据。\n",
    "`PeekPokeTesters` 总是在运行测试之前调用复位，但你也可以使用 `reset(n)` 函数手动调用复位，其中复位在 `n` 个周期内为高电平。"
   ]
  },
  {
   "cell_type": "markdown",
   "metadata": {},
   "source": [
    "---\n",
    "# Control Flow\n",
    "在控制流方面，寄存器与导线非常相似。\n",
    "它们具有最后连接语义，并且可以使用 `when`、`elsewhen` 和 `otherwise` 进行条件赋值。\n",
    "\n",
    "<span style=\"color:blue\">**Example: Register Control Flow**</span><br>\n",
    "以下示例使用条件寄存器赋值找到一系列输入中的最大值。"
   ]
  },
  {
   "cell_type": "code",
   "execution_count": null,
   "metadata": {},
   "outputs": [],
   "source": [
    "class FindMax extends Module {\n",
    "  val io = IO(new Bundle {\n",
    "    val in  = Input(UInt(10.W))\n",
    "    val max = Output(UInt(10.W))\n",
    "  })\n",
    "\n",
    "  val max = RegInit(0.U(10.W))\n",
    "  when (io.in > max) {\n",
    "    max := io.in\n",
    "  }\n",
    "  io.max := max\n",
    "}\n",
    "\n",
    "test(new FindMax) { c =>\n",
    "    c.io.max.expect(0.U)\n",
    "    c.io.in.poke(1.U)\n",
    "    c.clock.step(1)\n",
    "    c.io.max.expect(1.U)\n",
    "    c.io.in.poke(3.U)\n",
    "    c.clock.step(1)\n",
    "    c.io.max.expect(3.U)\n",
    "    c.io.in.poke(2.U)\n",
    "    c.clock.step(1)\n",
    "    c.io.max.expect(3.U)\n",
    "    c.io.in.poke(24.U)\n",
    "    c.clock.step(1)\n",
    "    c.io.max.expect(24.U)\n",
    "}\n",
    "println(\"SUCCESS!!\")"
   ]
  },
  {
   "cell_type": "markdown",
   "metadata": {},
   "source": [
    "---\n",
    "# Other Register Examples\n",
    "\n",
    "对寄存器调用的操作是在寄存器的**输出**上执行的，操作的种类取决于寄存器的类型。\n",
    "这意味着你可以写\n",
    "```scala\n",
    "val reg: UInt = Reg(UInt(4.W))\n",
    "```\n",
    "这意味着值 `reg` 的类型是 `UInt`，你可以对 `UInt` 进行正常操作，比如 `+`、`-` 等。\n",
    "\n",
    "你并不限于在寄存器中使用 `UInt`，你可以使用任何 `chisel3.Data` 基类型的子类。这包括用于有符号整数的 `SInt` 以及很多其他东西。\n",
    "\n",
    "<span style=\"color:blue\">**Example: Comb Filter**</span><br>\n",
    "以下示例显示了一个梳状滤波器。"
   ]
  },
  {
   "cell_type": "code",
   "execution_count": null,
   "metadata": {},
   "outputs": [],
   "source": [
    "class Comb extends Module {\n",
    "  val io = IO(new Bundle {\n",
    "    val in  = Input(SInt(12.W))\n",
    "    val out = Output(SInt(12.W))\n",
    "  })\n",
    "\n",
    "  val delay: SInt = Reg(SInt(12.W))\n",
    "  delay := io.in\n",
    "  io.out := io.in - delay\n",
    "}\n",
    "println(getVerilog(new Comb))"
   ]
  },
  {
   "cell_type": "markdown",
   "metadata": {},
   "source": [
    "---\n",
    "# Exercises\n",
    "<span style=\"color:red\">**Exercise: Shift Register**</span><br>\n",
    "基于你新学到的寄存器知识，构建一个实现线性反馈移位寄存器（LFSR）的模块。具体要求：\n",
    "- 每个元素宽度为一位。\n",
    "- 有一个4位输出信号。\n",
    "- 接受一个输入位，这是移位寄存器的下一个值。\n",
    "- 输出移位寄存器的并行输出，最高有效位是移位寄存器的最后一个元素，最低有效位是移位寄存器的第一个元素。`Cat` 可能会派上用场。\n",
    "- **输出初始化为 `b0001`。**\n",
    "- 每个时钟周期移位一次（无使能信号）。\n",
    "- **注意在 Chisel 中，子位分配是不合法的**；类似 `out(0) := in` 的操作是不可行的。\n",
    "\n",
    "<img src=\"images/shifter4.svg\" alt=\"shift register figure\" style=\"width: 450px\" />\n",
    "\n",
    "以下提供了一个基本的模块框架、测试向量和 Driver 调用。第一个寄存器已经为你提供。"
   ]
  },
  {
   "cell_type": "code",
   "execution_count": null,
   "metadata": {},
   "outputs": [],
   "source": [
    "class MyShiftRegister(val init: Int = 1) extends Module {\n",
    "  val io = IO(new Bundle {\n",
    "    val in  = Input(Bool())\n",
    "    val out = Output(UInt(4.W))\n",
    "  })\n",
    "\n",
    "  val state = RegInit(UInt(4.W), init.U)\n",
    "\n",
    "  ???\n",
    "}\n",
    "\n",
    "test(new MyShiftRegister()) { c =>\n",
    "  var state = c.init\n",
    "  for (i <- 0 until 10) {\n",
    "    // poke in LSB of i (i % 2)\n",
    "    c.io.in.poke(((i % 2) != 0).B)\n",
    "    // update expected state\n",
    "    state = ((state * 2) + (i % 2)) & 0xf\n",
    "    c.clock.step(1)\n",
    "    c.io.out.expect(state.U)\n",
    "  }\n",
    "}\n",
    "println(\"SUCCESS!!\")"
   ]
  },
  {
   "cell_type": "markdown",
   "metadata": {},
   "source": [
    "<div id=\"container\"><section id=\"accordion\"><div>\n",
    "<input type=\"checkbox\" id=\"check-1\" />\n",
    "<label for=\"check-1\"><strong>Solution</strong></label>\n",
    "<article>\n",
    "<pre style=\"background-color:#f7f7f7\">\n",
    "  val nextState = (state << 1) | io.in\n",
    "  state := nextState\n",
    "  io.out := state\n",
    "</pre></article></div></section></div>"
   ]
  },
  {
   "cell_type": "markdown",
   "metadata": {},
   "source": [
    "<span style=\"color:red\">**Exercise: Parameterized Shift Register (Optional)**</span><br>\n",
    "Write a shift register that is parameterized by its delay (`n`), its initial value (`init`), and also has an enable input signal (`en`)."
   ]
  },
  {
   "cell_type": "code",
   "execution_count": null,
   "metadata": {},
   "outputs": [],
   "source": [
    "// n is the output width (number of delays - 1)\n",
    "// init state to init\n",
    "class MyOptionalShiftRegister(val n: Int, val init: BigInt = 1) extends Module {\n",
    "  val io = IO(new Bundle {\n",
    "    val en  = Input(Bool())\n",
    "    val in  = Input(Bool())\n",
    "    val out = Output(UInt(n.W))\n",
    "  })\n",
    "\n",
    "  val state = RegInit(init.U(n.W))\n",
    "\n",
    "  ???\n",
    "}\n",
    "\n",
    "// test different depths\n",
    "for (i <- Seq(3, 4, 8, 24, 65)) {\n",
    "  println(s\"Testing n=$i\")\n",
    "  test(new MyOptionalShiftRegister(n = i)) { c =>\n",
    "    val inSeq = Seq(0, 1, 1, 1, 0, 1, 1, 0, 0, 1)\n",
    "    var state = c.init\n",
    "    var i = 0\n",
    "    c.io.en.poke(true.B)\n",
    "    while (i < 10 * c.n) {\n",
    "      // poke in repeated inSeq\n",
    "      val toPoke = inSeq(i % inSeq.length)\n",
    "      c.io.in.poke((toPoke != 0).B)\n",
    "      // update expected state\n",
    "      state = ((state * 2) + toPoke) & BigInt(\"1\"*c.n, 2)\n",
    "      c.clock.step(1)\n",
    "      c.io.out.expect(state.U)\n",
    "\n",
    "      i += 1\n",
    "    }\n",
    "  }\n",
    "}\n",
    "println(\"SUCCESS!!\")"
   ]
  },
  {
   "cell_type": "markdown",
   "metadata": {},
   "source": [
    "<div id=\"container\"><section id=\"accordion\"><div>\n",
    "<input type=\"checkbox\" id=\"check-2\" />\n",
    "<label for=\"check-2\"><strong>Solution</strong></label>\n",
    "<article>\n",
    "<pre style=\"background-color:#f7f7f7\">\n",
    "  val nextState = (state << 1) | io.in\n",
    "  when (io.en) {\n",
    "    state  := nextState\n",
    "  }\n",
    "  io.out := state\n",
    "</pre></article></div></section></div>"
   ]
  },
  {
   "cell_type": "markdown",
   "metadata": {},
   "source": [
    "---\n",
    "# Appendix: Explicit clock and reset\n",
    "Chisel 模块有一个默认的时钟和复位，这些时钟和复位被每个在它们内部创建的寄存器隐式使用。\n",
    "有时你可能希望能够覆盖这种默认行为；也许你有一个生成时钟或复位信号的黑盒，或者你有一个多时钟设计。\n",
    "\n",
    "Chisel 提供了用于处理这些情况的构造。\n",
    "可以分别或一起使用 `withClock() {}`、`withReset() {}` 和 `withClockAndReset() {}` 来覆盖时钟和复位。\n",
    "以下代码块将展示使用这些函数的示例。\n",
    "\n",
    "需要注意的一点是，`reset`（截至本教程编写时）始终是同步的，并且类型为 `Bool`。\n",
    "时钟在 Chisel 中有自己的类型（`Clock`），应如此声明。\n",
    "*`Bool` 可以通过调用 `asClock()` 转换为 `Clock`，但你应该小心不要做一些愚蠢的事情。*\n",
    "\n",
    "还要注意，`chisel-testers` 目前不完全支持多时钟设计。\n",
    "\n",
    "<span style=\"color:blue\">**Example: Multi-Clock Module**</span><br>\n",
    "一个具有多个时钟和复位信号的模块。"
   ]
  },
  {
   "cell_type": "code",
   "execution_count": null,
   "metadata": {
    "scrolled": true
   },
   "outputs": [],
   "source": [
    "// we need to import multi-clock features\n",
    "import chisel3.experimental.{withClock, withReset, withClockAndReset}\n",
    "\n",
    "class ClockExamples extends Module {\n",
    "  val io = IO(new Bundle {\n",
    "    val in = Input(UInt(10.W))\n",
    "    val alternateReset    = Input(Bool())\n",
    "    val alternateClock    = Input(Clock())\n",
    "    val outImplicit       = Output(UInt())\n",
    "    val outAlternateReset = Output(UInt())\n",
    "    val outAlternateClock = Output(UInt())\n",
    "    val outAlternateBoth  = Output(UInt())\n",
    "  })\n",
    "\n",
    "  val imp = RegInit(0.U(10.W))\n",
    "  imp := io.in\n",
    "  io.outImplicit := imp\n",
    "\n",
    "  withReset(io.alternateReset) {\n",
    "    // everything in this scope with have alternateReset as the reset\n",
    "    val altRst = RegInit(0.U(10.W))\n",
    "    altRst := io.in\n",
    "    io.outAlternateReset := altRst\n",
    "  }\n",
    "\n",
    "  withClock(io.alternateClock) {\n",
    "    val altClk = RegInit(0.U(10.W))\n",
    "    altClk := io.in\n",
    "    io.outAlternateClock := altClk\n",
    "  }\n",
    "\n",
    "  withClockAndReset(io.alternateClock, io.alternateReset) {\n",
    "    val alt = RegInit(0.U(10.W))\n",
    "    alt := io.in\n",
    "    io.outAlternateBoth := alt\n",
    "  }\n",
    "}\n",
    "\n",
    "println(getVerilog(new ClockExamples))"
   ]
  },
  {
   "cell_type": "markdown",
   "metadata": {},
   "source": [
    "---\n",
    "# Wrap Up\n",
    "完成这一部分的学习，做得很好！！你现在已经学会了如何在 Chisel 中创建寄存器和编写时序逻辑，这意味着你有足够的基本构建模块来编写真实电路了。\n",
    "\n",
    "下一部分将把我们学到的所有内容结合到一个示例中！如果你需要更多的鼓励，请记住这位 Chisel 专家的话：\n",
    "\n",
    "![BobRoss](http://i.qkme.me/3qbd5u.jpg)"
   ]
  },
  {
   "cell_type": "markdown",
   "metadata": {},
   "source": [
    "---\n",
    "# You're done!\n",
    "\n",
    "[Return to the top.](#top)"
   ]
  }
 ],
 "metadata": {
  "kernelspec": {
   "display_name": "Scala",
   "language": "scala",
   "name": "scala"
  },
  "language_info": {
   "codemirror_mode": "text/x-scala",
   "file_extension": ".scala",
   "mimetype": "text/x-scala",
   "name": "scala",
   "nbconvert_exporter": "script",
   "version": "2.12.10"
  }
 },
 "nbformat": 4,
 "nbformat_minor": 2
}
