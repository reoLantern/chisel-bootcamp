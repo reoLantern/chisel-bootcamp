{
 "cells": [
  {
   "cell_type": "markdown",
   "metadata": {},
   "source": [
    "<a name=\"top\"></a><img src=\"images/chisel_1024.png\" alt=\"Chisel logo\" style=\"width:480px;\" />"
   ]
  },
  {
   "cell_type": "markdown",
   "metadata": {},
   "source": [
    "# Module 4.4: A FIRRTL Transform Example\n",
    "\n",
    "**Prev: [Common Pass Idioms](4.3_firrtl_common_idioms.ipynb)**<br>\n",
    "\n",
    "这个 AnalyzeCircuit Transform 遍历一个 `firrtl.ir.Circuit`，并记录它在每个模块中找到的加法操作数量。\n",
    "\n",
    "## Setup\n",
    "\n",
    "请运行以下代码："
   ]
  },
  {
   "cell_type": "code",
   "execution_count": null,
   "metadata": {
    "collapsed": true
   },
   "outputs": [],
   "source": [
    "val path = System.getProperty(\"user.dir\") + \"/source/load-ivy.sc\"\n",
    "interp.load.module(ammonite.ops.Path(java.nio.file.FileSystems.getDefault().getPath(path)))"
   ]
  },
  {
   "cell_type": "code",
   "execution_count": null,
   "metadata": {
    "collapsed": true
   },
   "outputs": [],
   "source": [
    "// Compiler Infrastructure\n",
    "\n",
    "// Firrtl IR classes\n",
    "\n",
    "// Map functions\n",
    "\n",
    "// Scala's mutable collections\n",
    "import scala.collection.mutable"
   ]
  },
  {
   "cell_type": "markdown",
   "metadata": {},
   "source": [
    "## Counting Adders Per Module\n",
    "\n",
    "如前所述，Firrtl 电路使用树形表示法表示：\n",
    "  - Firrtl `Circuit` 包含一个 `DefModule` 序列。\n",
    "  - `DefModule` 包含一个 `Port` 序列，以及可能包含一个 `Statement`。\n",
    "  - `Statement` 可以包含其他 `Statement` 或 `Expression`。\n",
    "  - `Expression` 可以包含其他 `Expression`。\n",
    "\n",
    "要访问电路中的所有 Firrtl IR 节点，我们编写递归遍历此树的函数。为了记录统计信息，我们将传递一个 `Ledger` 类，并在遇到加法操作时使用它："
   ]
  },
  {
   "cell_type": "code",
   "execution_count": null,
   "metadata": {
    "collapsed": true
   },
   "outputs": [],
   "source": [
    "class Ledger {\n",
    "  import firrtl.Utils\n",
    "  private var moduleName: Option[String] = None\n",
    "  private val modules = mutable.Set[String]()\n",
    "  private val moduleAddMap = mutable.Map[String, Int]()\n",
    "  def foundAdd(): Unit = moduleName match {\n",
    "    case None => sys.error(\"Module name not defined in Ledger!\")\n",
    "    case Some(name) => moduleAddMap(name) = moduleAddMap.getOrElse(name, 0) + 1\n",
    "  }\n",
    "  def getModuleName: String = moduleName match {\n",
    "    case None => Utils.error(\"Module name not defined in Ledger!\")\n",
    "    case Some(name) => name\n",
    "  }\n",
    "  def setModuleName(myName: String): Unit = {\n",
    "    modules += myName\n",
    "    moduleName = Some(myName)\n",
    "  }\n",
    "  def serialize: String = {\n",
    "    modules map { myName =>\n",
    "      s\"$myName => ${moduleAddMap.getOrElse(myName, 0)} add ops!\"\n",
    "    } mkString \"\\n\"\n",
    "  }\n",
    "}"
   ]
  },
  {
   "cell_type": "markdown",
   "metadata": {},
   "source": [
    "现在，让我们定义一个 FIRRTL 变换，它遍历电路，并在遇到加法器（`DoPrim` 的 `op` 参数为 `Add`）时更新我们的 `Ledger`。暂时不用担心 `inputForm` 或 `outputForm`。\n",
    "\n",
    "花点时间来理解 `walkModule`、`walkStatement` 和 `walkExpression` 如何在 FIRRTL AST 中遍历所有的 `DefModule`、`Statement` 和 `Expression` 节点。\n",
    "\n",
    "需要回答的问题：\n",
    "  - **为什么 `walkModule` 不调用 `walkExpression`？**\n",
    "  - **为什么 `walkExpression` 进行后序遍历？**\n",
    "  - **你能修改 `walkExpression` 以进行表达式的前序遍历吗？**"
   ]
  },
  {
   "cell_type": "code",
   "execution_count": null,
   "metadata": {
    "collapsed": true
   },
   "outputs": [],
   "source": [
    "class AnalyzeCircuit extends firrtl.Transform {\n",
    "  import firrtl._\n",
    "  import firrtl.ir._\n",
    "  import firrtl.Mappers._\n",
    "  import firrtl.Parser._\n",
    "  import firrtl.annotations._\n",
    "  import firrtl.PrimOps._\n",
    "    \n",
    "  // Requires the [[Circuit]] form to be \"low\"\n",
    "  def inputForm = LowForm\n",
    "  // Indicates the output [[Circuit]] form to be \"low\"\n",
    "  def outputForm = LowForm\n",
    "\n",
    "  // Called by [[Compiler]] to run your pass. [[CircuitState]] contains\n",
    "  // the circuit and its form, as well as other related data.\n",
    "  def execute(state: CircuitState): CircuitState = {\n",
    "    val ledger = new Ledger()\n",
    "    val circuit = state.circuit\n",
    "\n",
    "    // Execute the function walkModule(ledger) on every [[DefModule]] in\n",
    "    // circuit, returning a new [[Circuit]] with new [[Seq]] of [[DefModule]].\n",
    "    //   - \"higher order functions\" - using a function as an object\n",
    "    //   - \"function currying\" - partial argument notation\n",
    "    //   - \"infix notation\" - fancy function calling syntax\n",
    "    //   - \"map\" - classic functional programming concept\n",
    "    //   - discard the returned new [[Circuit]] because circuit is unmodified\n",
    "    circuit map walkModule(ledger)\n",
    "\n",
    "    // Print our ledger\n",
    "    println(ledger.serialize)\n",
    "\n",
    "    // Return an unchanged [[CircuitState]]\n",
    "    state\n",
    "  }\n",
    "\n",
    "  // Deeply visits every [[Statement]] in m.\n",
    "  def walkModule(ledger: Ledger)(m: DefModule): DefModule = {\n",
    "    // Set ledger to current module name\n",
    "    ledger.setModuleName(m.name)\n",
    "\n",
    "    // Execute the function walkStatement(ledger) on every [[Statement]] in m.\n",
    "    //   - return the new [[DefModule]] (in this case, its identical to m)\n",
    "    //   - if m does not contain [[Statement]], map returns m.\n",
    "    m map walkStatement(ledger)\n",
    "  }\n",
    "\n",
    "  // Deeply visits every [[Statement]] and [[Expression]] in s.\n",
    "  def walkStatement(ledger: Ledger)(s: Statement): Statement = {\n",
    "\n",
    "    // Execute the function walkExpression(ledger) on every [[Expression]] in s.\n",
    "    //   - discard the new [[Statement]] (in this case, its identical to s)\n",
    "    //   - if s does not contain [[Expression]], map returns s.\n",
    "    s map walkExpression(ledger)\n",
    "\n",
    "    // Execute the function walkStatement(ledger) on every [[Statement]] in s.\n",
    "    //   - return the new [[Statement]] (in this case, its identical to s)\n",
    "    //   - if s does not contain [[Statement]], map returns s.\n",
    "    s map walkStatement(ledger)\n",
    "  }\n",
    "\n",
    "  // Deeply visits every [[Expression]] in e.\n",
    "  //   - \"post-order traversal\" - handle e's children [[Expression]] before e\n",
    "  def walkExpression(ledger: Ledger)(e: Expression): Expression = {\n",
    "\n",
    "    // Execute the function walkExpression(ledger) on every [[Expression]] in e.\n",
    "    //   - return the new [[Expression]] (in this case, its identical to e)\n",
    "    //   - if s does not contain [[Expression]], map returns e.\n",
    "    val visited = e map walkExpression(ledger)\n",
    "\n",
    "    visited match {\n",
    "      // If e is an adder, increment our ledger and return e.\n",
    "      case DoPrim(Add, _, _, _) =>\n",
    "        ledger.foundAdd\n",
    "        e\n",
    "      // If e is not an adder, return e.\n",
    "      case notadd => notadd\n",
    "    }\n",
    "  }\n",
    "}"
   ]
  },
  {
   "cell_type": "markdown",
   "metadata": {},
   "source": [
    "## 运行我们的 Transform\n",
    "\n",
    "现在我们已经定义了它，让我们在一个 Chisel 设计上运行它！首先，让我们定义一个 Chisel 模块。"
   ]
  },
  {
   "cell_type": "code",
   "execution_count": null,
   "metadata": {
    "collapsed": true
   },
   "outputs": [],
   "source": [
    "// Chisel stuff\n",
    "import chisel3._\n",
    "import chisel3.Input // Technicality: avoid a conflict with _root_.almond.input.Input\n",
    "import chisel3.util._"
   ]
  },
  {
   "cell_type": "code",
   "execution_count": null,
   "metadata": {},
   "outputs": [],
   "source": [
    "class AddMe(val nInputs: Int, val width: Int) extends Module {\n",
    "  val io = IO(new Bundle {\n",
    "    val in  = Input(Vec(nInputs, UInt(width.W)))\n",
    "    val out = Output(UInt(width.W))\n",
    "  })\n",
    "  io.out := io.in.reduce(_ +& _)\n",
    "}"
   ]
  },
  {
   "cell_type": "markdown",
   "metadata": {},
   "source": [
    "Next, let's elaborate it into FIRRTL AST syntax."
   ]
  },
  {
   "cell_type": "code",
   "execution_count": null,
   "metadata": {
    "collapsed": true
   },
   "outputs": [],
   "source": [
    "val firrtlSerialization = chisel3.Driver.emit(() => new AddMe(8, 4))"
   ]
  },
  {
   "cell_type": "markdown",
   "metadata": {},
   "source": [
    "\n",
    "最后，让我们将我们的 FIRRTL 编译成 Verilog，但在编译中包含我们自定义的变换。注意，它会打印出它找到的加法操作的数量！\n",
    "\n",
    "**注意**（2021年1月）：由于[一个bug](https://github.com/freechipsproject/chisel-bootcamp/issues/129)，以下行可能会失效。"
   ]
  },
  {
   "cell_type": "code",
   "execution_count": null,
   "metadata": {
    "collapsed": true
   },
   "outputs": [],
   "source": [
    "val verilog = compileFIRRTL(firrtlSerialization, new firrtl.VerilogCompiler(), Seq(new AnalyzeCircuit()))"
   ]
  },
  {
   "cell_type": "markdown",
   "metadata": {},
   "source": [
    "`compileFIRRTL` 函数仅在本教程中定义 - 在后面的部分中，我们将描述如何插入自定义变换的过程。\n",
    "\n",
    "本节内容就到这里！"
   ]
  }
 ],
 "metadata": {
  "kernelspec": {
   "display_name": "Scala",
   "language": "scala",
   "name": "scala"
  },
  "language_info": {
   "codemirror_mode": "text/x-scala",
   "file_extension": ".scala",
   "mimetype": "text/x-scala",
   "name": "scala211",
   "nbconvert_exporter": "script",
   "pygments_lexer": "scala",
   "version": "2.11.11"
  }
 },
 "nbformat": 4,
 "nbformat_minor": 2
}
