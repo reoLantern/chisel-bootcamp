{
 "cells": [
  {
   "cell_type": "markdown",
   "metadata": {},
   "source": [
    "<a name=\"top\"></a><img src=\"images/chisel_1024.png\" alt=\"Chisel logo\" style=\"width:480px;\" />"
   ]
  },
  {
   "cell_type": "markdown",
   "metadata": {},
   "source": [
    "# Module 2.5: Putting it all Together: An FIR Filter\n",
    "**Prev: [Sequential Logic](2.4_sequential_logic.ipynb)**<br>\n",
    "**Next: [ChiselTest (was chisel-testers2)](2.6_chiseltest.ipynb)**\n",
    "\n",
    "## Motivation\n",
    "现在你已经学习了 Chisel 的基础知识，让我们利用这些知识构建一个 FIR（有限冲激响应）滤波器模块吧！FIR 滤波器在数字信号处理应用中非常常见。此外，FIR 滤波器将在模块3中频繁出现，因此请务必不要跳过这个模块！如果你不熟悉 FIR 滤波器，请查阅[可信的维基百科](https://en.wikipedia.org/wiki/Finite_impulse_response)上的文章以了解更多信息。\n",
    "\n",
    "## Setup"
   ]
  },
  {
   "cell_type": "code",
   "execution_count": null,
   "metadata": {},
   "outputs": [],
   "source": [
    "val path = System.getProperty(\"user.dir\") + \"/source/load-ivy.sc\"\n",
    "interp.load.module(ammonite.ops.Path(java.nio.file.FileSystems.getDefault().getPath(path)))"
   ]
  },
  {
   "cell_type": "code",
   "execution_count": null,
   "metadata": {},
   "outputs": [],
   "source": [
    "import chisel3._\n",
    "import chisel3.util._\n",
    "import chisel3.tester._\n",
    "import chisel3.tester.RawTester.test"
   ]
  },
  {
   "cell_type": "markdown",
   "metadata": {
    "nbpresent": {
     "id": "2e849671-a1e9-48b2-9bba-eb916ac623c6"
    }
   },
   "source": [
    "---\n",
    "# FIR Filter\n",
    "\n",
    "你将设计的 FIR 滤波器执行以下操作。\n",
    "\n",
    "<img src=\"images/fir.jpg\" width=\"720\">\n",
    "\n",
    "基本上，这进行滤波器系数元素与输入信号元素的逐元素乘法，并输出和（也称为_卷积_）。\n",
    "\n",
    "或者，用信号的定义表示：\n",
    "\n",
    "$y[n] = b_0 x[n] + b_1 x[n-1] + b_2 x[n-2] + ...$\n",
    " - $y[n]$ 是时间 $n$ 的输出信号\n",
    " - $x[n]$ 是输入信号\n",
    " - $b_i$ 是滤波器系数或脉冲响应\n",
    " - $n-1$, $n-2$, ... 是时间 $n$ 延迟 1, 2, ... 个周期\n",
    " \n",
    "## 8-bit Specification\n",
    "\n",
    "构建一个 4 元素 FIR 滤波器，其中四个滤波器系数是参数。为你提供了模块框架和基本测试。\n",
    "注意，输入和输出都是 8 位无符号整数。你需要使用移位寄存器等构造来保存必要的状态（如延迟的信号值）。使用提供的测试器检查你的实现。\n",
    "具有恒定输入的寄存器可以使用移位值为 1 的 `ShiftRegister` 创建，或使用 `RegNext` 构造。\n",
    "\n",
    "注意：为了测试通过，你的寄存器必须初始化为 `0.U`。"
   ]
  },
  {
   "cell_type": "code",
   "execution_count": null,
   "metadata": {
    "nbpresent": {
     "id": "26e4a686-0397-4306-985c-813909256c95"
    }
   },
   "outputs": [],
   "source": [
    "class My4ElementFir(b0: Int, b1: Int, b2: Int, b3: Int) extends Module {\n",
    "  val io = IO(new Bundle {\n",
    "    val in = Input(UInt(8.W))\n",
    "    val out = Output(UInt(8.W))\n",
    "  })\n",
    "\n",
    "  ???\n",
    "}"
   ]
  },
  {
   "cell_type": "code",
   "execution_count": null,
   "metadata": {
    "nbpresent": {
     "id": "ddf24b7b-09a2-46f0-b1d8-cb2ca7976b4b"
    }
   },
   "outputs": [],
   "source": [
    "// Simple sanity check: a element with all zero coefficients should always produce zero\n",
    "test(new My4ElementFir(0, 0, 0, 0)) { c =>\n",
    "    c.io.in.poke(0.U)\n",
    "    c.io.out.expect(0.U)\n",
    "    c.clock.step(1)\n",
    "    c.io.in.poke(4.U)\n",
    "    c.io.out.expect(0.U)\n",
    "    c.clock.step(1)\n",
    "    c.io.in.poke(5.U)\n",
    "    c.io.out.expect(0.U)\n",
    "    c.clock.step(1)\n",
    "    c.io.in.poke(2.U)\n",
    "    c.io.out.expect(0.U)\n",
    "}"
   ]
  },
  {
   "cell_type": "code",
   "execution_count": null,
   "metadata": {},
   "outputs": [],
   "source": [
    "// Simple 4-point moving average\n",
    "test(new My4ElementFir(1, 1, 1, 1)) { c =>\n",
    "    c.io.in.poke(1.U)\n",
    "    c.io.out.expect(1.U)  // 1, 0, 0, 0\n",
    "    c.clock.step(1)\n",
    "    c.io.in.poke(4.U)\n",
    "    c.io.out.expect(5.U)  // 4, 1, 0, 0\n",
    "    c.clock.step(1)\n",
    "    c.io.in.poke(3.U)\n",
    "    c.io.out.expect(8.U)  // 3, 4, 1, 0\n",
    "    c.clock.step(1)\n",
    "    c.io.in.poke(2.U)\n",
    "    c.io.out.expect(10.U)  // 2, 3, 4, 1\n",
    "    c.clock.step(1)\n",
    "    c.io.in.poke(7.U)\n",
    "    c.io.out.expect(16.U)  // 7, 2, 3, 4\n",
    "    c.clock.step(1)\n",
    "    c.io.in.poke(0.U)\n",
    "    c.io.out.expect(12.U)  // 0, 7, 2, 3\n",
    "}"
   ]
  },
  {
   "cell_type": "code",
   "execution_count": null,
   "metadata": {},
   "outputs": [],
   "source": [
    "// Nonsymmetric filter\n",
    "test(new My4ElementFir(1, 2, 3, 4)) { c =>\n",
    "    c.io.in.poke(1.U)\n",
    "    c.io.out.expect(1.U)  // 1*1, 0*2, 0*3, 0*4\n",
    "    c.clock.step(1)\n",
    "    c.io.in.poke(4.U)\n",
    "    c.io.out.expect(6.U)  // 4*1, 1*2, 0*3, 0*4\n",
    "    c.clock.step(1)\n",
    "    c.io.in.poke(3.U)\n",
    "    c.io.out.expect(14.U)  // 3*1, 4*2, 1*3, 0*4\n",
    "    c.clock.step(1)\n",
    "    c.io.in.poke(2.U)\n",
    "    c.io.out.expect(24.U)  // 2*1, 3*2, 4*3, 1*4\n",
    "    c.clock.step(1)\n",
    "    c.io.in.poke(7.U)\n",
    "    c.io.out.expect(36.U)  // 7*1, 2*2, 3*3, 4*4\n",
    "    c.clock.step(1)\n",
    "    c.io.in.poke(0.U)\n",
    "    c.io.out.expect(32.U)  // 0*1, 7*2, 2*3, 3*4\n",
    "}"
   ]
  },
  {
   "cell_type": "markdown",
   "metadata": {},
   "source": [
    "<div id=\"container\"><section id=\"accordion\"><div>\n",
    "<input type=\"checkbox\" id=\"check-1\" />\n",
    "<label for=\"check-1\"><strong>Solution</strong></label>\n",
    "<article>\n",
    "<pre style=\"background-color:#f7f7f7\">\n",
    "  val x_n1 = RegNext(io.in, 0.U)\n",
    "  val x_n2 = RegNext(x_n1, 0.U)\n",
    "  val x_n3 = RegNext(x_n2, 0.U)\n",
    "  io.out := io.in * b0.U(8.W) + \n",
    "    x_n1 * b1.U(8.W) +\n",
    "    x_n2 * b2.U(8.W) + \n",
    "    x_n3 * b3.U(8.W)\n",
    "</pre></article></div></section></div>"
   ]
  },
  {
   "cell_type": "markdown",
   "metadata": {},
   "source": [
    "---\n",
    "# FIR Filter Generator\n",
    "\n",
    "在本模块中，我们将使用来自[Module 3.2: Generators: Collection](3.2_collections.ipynb)的一个稍作修改的示例。\n",
    "如果你还没有开始模块 3.2，不用担心。\n",
    "你将了解 `MyManyDynamicElementVecFir` 的工作原理，但基本思想是它是一个 FIR 滤波器生成器。\n",
    "\n",
    "生成器有一个参数：长度。\n",
    "该参数决定了滤波器有多少个抽头（taps），抽头是硬件 `Module` 的输入。\n",
    "\n",
    "生成器有3个输入：\n",
    "* in：滤波器的输入\n",
    "* valid：一个布尔值，表示输入何时有效\n",
    "* consts：一个包含所有抽头的向量\n",
    "\n",
    "和1个输出：\n",
    "* out：过滤后的输入\n",
    "\n",
    "<img src=\"images/fir.jpg\" style=\"width:450px;\"/>"
   ]
  },
  {
   "cell_type": "code",
   "execution_count": null,
   "metadata": {},
   "outputs": [],
   "source": [
    "class MyManyDynamicElementVecFir(length: Int) extends Module {\n",
    "  val io = IO(new Bundle {\n",
    "    val in = Input(UInt(8.W))\n",
    "    val valid = Input(Bool())\n",
    "    val out = Output(UInt(8.W))\n",
    "    val consts = Input(Vec(length, UInt(8.W)))\n",
    "  })\n",
    "  \n",
    "  // Such concision! You'll learn what all this means later.\n",
    "  val taps = Seq(io.in) ++ Seq.fill(io.consts.length - 1)(RegInit(0.U(8.W)))\n",
    "  taps.zip(taps.tail).foreach { case (a, b) => when (io.valid) { b := a } }\n",
    "\n",
    "  io.out := taps.zip(io.consts).map { case (a, b) => a * b }.reduce(_ + _)\n",
    "}\n",
    "\n",
    "visualize(() => new MyManyDynamicElementVecFir(4))"
   ]
  },
  {
   "cell_type": "markdown",
   "metadata": {},
   "source": [
    "---\n",
    "# DspBlock\n",
    "\n",
    "将DSP组件集成到更大的系统中可能具有挑战性且容易出错。\n",
    "[dsptools仓库的rocket部分](https://github.com/ucb-bar/dsptools/tree/master/rocket)包含一些有用的generators，可以帮助完成这些任务。\n",
    "\n",
    "其中一个核心抽象是`DspBlock`的概念。\n",
    "一个`DspBlock`具有：\n",
    "* AXI-4 Stream输入和输出\n",
    "* 内存映射的状态和控制（在这个例子中，是AXI4）\n",
    "\n",
    "<img src=\"images/fir_filter.png\" style=\"width:800px;\"/>\n",
    "\n",
    "`DspBlock`使用rocket中的diplomatic接口。\n",
    "[这个网站](https://www.lowrisc.org/docs/diplomacy/)有一个关于diplomacy基础的很好的概述，但在这个例子中，不用太担心它是如何工作的。\n",
    "当你连接许多不同的模块来形成一个复杂的SoC时，diplomacy的优势就显现出来了。\n",
    "在这个例子中，我们只是制作一个单独的外设。\n",
    "混入`StandaloneBlock` traits使diplomatic接口可以作为顶层IO工作。\n",
    "只有当`DspBlock`作为顶层接口使用而没有任何diplomatic连接时，才需要它们。\n",
    "\n",
    "以下代码将FIR滤波器封装在AXI4接口中。"
   ]
  },
  {
   "cell_type": "code",
   "execution_count": null,
   "metadata": {},
   "outputs": [],
   "source": [
    "import dspblocks._\n",
    "import freechips.rocketchip.amba.axi4._\n",
    "import freechips.rocketchip.amba.axi4stream._\n",
    "import freechips.rocketchip.config._\n",
    "import freechips.rocketchip.diplomacy._\n",
    "import freechips.rocketchip.regmapper._\n",
    "\n",
    "//\n",
    "// Base class for all FIRBlocks.\n",
    "// This can be extended to make TileLink, AXI4, APB, AHB, etc. flavors of the FIR filter\n",
    "//\n",
    "abstract class FIRBlock[D, U, EO, EI, B <: Data](val nFilters: Int, val nTaps: Int)(implicit p: Parameters)\n",
    "// HasCSR means that the memory interface will be using the RegMapper API to define status and control registers\n",
    "extends DspBlock[D, U, EO, EI, B] with HasCSR {\n",
    "    // diplomatic node for the streaming interface\n",
    "    // identity node means the output and input are parameterized to be the same\n",
    "    val streamNode = AXI4StreamIdentityNode()\n",
    "    \n",
    "    // define the what hardware will be elaborated\n",
    "    lazy val module = new LazyModuleImp(this) {\n",
    "        // get streaming input and output wires from diplomatic node\n",
    "        val (in, _)  = streamNode.in(0)\n",
    "        val (out, _) = streamNode.out(0)\n",
    "\n",
    "        require(in.params.n >= nFilters,\n",
    "                s\"\"\"AXI-4 Stream port must be big enough for all \n",
    "                   |the filters (need $nFilters,, only have ${in.params.n})\"\"\".stripMargin)\n",
    "\n",
    "        // make registers to store taps\n",
    "        val taps = Reg(Vec(nFilters, Vec(nTaps, UInt(8.W))))\n",
    "\n",
    "        // memory map the taps, plus the first address is a read-only field that says how many filter lanes there are\n",
    "        val mmap = Seq(\n",
    "            RegField.r(64, nFilters.U, RegFieldDesc(\"nFilters\", \"Number of filter lanes\"))\n",
    "        ) ++ taps.flatMap(_.map(t => RegField(8, t, RegFieldDesc(\"tap\", \"Tap\"))))\n",
    "\n",
    "        // generate the hardware for the memory interface\n",
    "        // in this class, regmap is abstract (unimplemented). mixing in something like AXI4HasCSR or TLHasCSR\n",
    "        // will define regmap for the particular memory interface\n",
    "        regmap(mmap.zipWithIndex.map({case (r, i) => i * 8 -> Seq(r)}): _*)\n",
    "\n",
    "        // make the FIR lanes and connect inputs and taps\n",
    "        val outs = for (i <- 0 until nFilters) yield {\n",
    "            val fir = Module(new MyManyDynamicElementVecFir(nTaps))\n",
    "            \n",
    "            fir.io.in := in.bits.data((i+1)*8, i*8)\n",
    "            fir.io.valid := in.valid && out.ready\n",
    "            fir.io.consts := taps(i)            \n",
    "            fir.io.out\n",
    "        }\n",
    "\n",
    "        val output = if (outs.length == 1) {\n",
    "            outs.head\n",
    "        } else {\n",
    "            outs.reduce((x: UInt, y: UInt) => Cat(y, x))\n",
    "        }\n",
    "\n",
    "        out.bits.data := output\n",
    "        in.ready  := out.ready\n",
    "        out.valid := in.valid\n",
    "    }\n",
    "}\n",
    "\n",
    "// make AXI4 flavor of FIRBlock\n",
    "abstract class AXI4FIRBlock(nFilters: Int, nTaps: Int)(implicit p: Parameters) extends FIRBlock[AXI4MasterPortParameters, AXI4SlavePortParameters, AXI4EdgeParameters, AXI4EdgeParameters, AXI4Bundle](nFilters, nTaps) with AXI4DspBlock with AXI4HasCSR {\n",
    "    override val mem = Some(AXI4RegisterNode(\n",
    "        AddressSet(0x0, 0xffffL), beatBytes = 8\n",
    "    ))\n",
    "}\n",
    "\n",
    "// running the code below will show what firrtl is generated\n",
    "// note that LazyModules aren't really chisel modules- you need to call \".module\" on them when invoking the chisel driver\n",
    "// also note that AXI4StandaloneBlock is mixed in- if you forget it, you will get weird diplomacy errors because the memory\n",
    "// interface expects a master and the streaming interface expects to be connected. AXI4StandaloneBlock will add top level IOs\n",
    "// println(chisel3.Driver.emit(() => LazyModule(new AXI4FIRBlock(1, 8)(Parameters.empty) with AXI4StandaloneBlock).module))"
   ]
  },
  {
   "cell_type": "markdown",
   "metadata": {},
   "source": [
    "## 测试\n",
    "\n",
    "测试`DspBlock`有点不同。\n",
    "现在我们涉及内存接口和`LazyModule`s。\n",
    "dsptools具有一些功能，可以帮助测试`DspBlock`。\n",
    "\n",
    "一个重要的功能是`MemMasterModel`。\n",
    "该特性定义了诸如`memReadWord`和`memWriteWord`之类的函数 - 用于生成内存流量的通用函数。\n",
    "这使您可以编写一个通用测试，可以针对您正在使用的内存接口进行特化 - 例如，您编写一个测试，然后针对TileLink和AXI4接口进行特化。\n",
    "\n",
    "下面的代码以这种方式测试`FIRBlock`。"
   ]
  },
  {
   "cell_type": "code",
   "execution_count": null,
   "metadata": {},
   "outputs": [],
   "source": [
    "import dsptools.tester.MemMasterModel\n",
    "import freechips.rocketchip.amba.axi4\n",
    "\n",
    "abstract class FIRBlockTester[D, U, EO, EI, B <: Data](c: FIRBlock[D, U, EO, EI, B]) extends PeekPokeTester(c.module) with MemMasterModel {\n",
    "    // check that address 0 is the number of filters\n",
    "    require(memReadWord(0) == c.nFilters)\n",
    "    // write 1 to all the taps\n",
    "    for (i <- 0 until c.nFilters * c.nTaps) {\n",
    "        memWriteWord(8 + i * 8, 1)\n",
    "    }\n",
    "}\n",
    "\n",
    "// specialize the generic tester for axi4\n",
    "class AXI4FIRBlockTester(c: AXI4FIRBlock with AXI4StandaloneBlock) extends FIRBlockTester(c) with AXI4MasterModel {\n",
    "    def memAXI = c.ioMem.get\n",
    "}\n",
    "\n",
    "// invoking testers on lazymodules is a little strange.\n",
    "// note that the firblocktester takes a lazymodule, not a module (it calls .module in \"extends PeekPokeTester()\").\n",
    "val lm = LazyModule(new AXI4FIRBlock(1, 8)(Parameters.empty) with AXI4StandaloneBlock)\n",
    "chisel3.iotesters.Driver(() => lm.module) { _ => new AXI4FIRBlockTester(lm) }"
   ]
  },
  {
   "cell_type": "markdown",
   "metadata": {},
   "source": [
    "<span style=\"color:red\">**Exercise: TileLink**</span><br>\n",
    "\n",
    "添加一个使用TileLink作为其内存互连的版本的`FIRBlock`，并扩展`FIRBlockTester`以使用TileLink。\n"
   ]
  },
  {
   "cell_type": "markdown",
   "metadata": {},
   "source": [
    "---\n",
    "# You're done!\n",
    "\n",
    "[Return to the top.](#top)"
   ]
  }
 ],
 "metadata": {
  "kernelspec": {
   "display_name": "Scala",
   "language": "scala",
   "name": "scala"
  },
  "language_info": {
   "codemirror_mode": "text/x-scala",
   "file_extension": ".scala",
   "mimetype": "text/x-scala",
   "name": "scala",
   "nbconvert_exporter": "script",
   "version": "2.12.10"
  }
 },
 "nbformat": 4,
 "nbformat_minor": 2
}
