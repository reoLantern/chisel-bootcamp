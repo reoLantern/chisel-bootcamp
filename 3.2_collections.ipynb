{
 "cells": [
  {
   "cell_type": "markdown",
   "metadata": {},
   "source": [
    "<a name=\"top\"></a><img src=\"images/chisel_1024.png\" alt=\"Chisel logo\" style=\"width:480px;\" />"
   ]
  },
  {
   "cell_type": "markdown",
   "metadata": {},
   "source": [
    "# Module 3.2: Generators: Collections\n",
    "**Prev: [Generators: Parameters](3.1_parameters.ipynb)**<br>\n",
    "**Next: [Interlude: Chisel Standard Library](3.2_interlude.ipynb)**\n",
    "\n",
    "## Motivation\n",
    "Generators 经常需要处理可变数量的对象，无论是 IOs、模块还是测试向量。集合（collections）是处理这种情况的重要构建块。本模块将介绍 Scala 集合以及如何在 Chisel Generators 中使用它们。\n",
    "\n",
    "## Setup"
   ]
  },
  {
   "cell_type": "code",
   "execution_count": null,
   "metadata": {},
   "outputs": [],
   "source": [
    "val path = System.getProperty(\"user.dir\") + \"/source/load-ivy.sc\"\n",
    "interp.load.module(ammonite.ops.Path(java.nio.file.FileSystems.getDefault().getPath(path)))"
   ]
  },
  {
   "cell_type": "markdown",
   "metadata": {},
   "source": [
    "Note we add a new import here because `mutable.ArrayBuffer` lives in `scala.collections`."
   ]
  },
  {
   "cell_type": "code",
   "execution_count": null,
   "metadata": {},
   "outputs": [],
   "source": [
    "import chisel3._\n",
    "import chisel3.util._\n",
    "import chisel3.tester._\n",
    "import chisel3.tester.RawTester.test\n",
    "import scala.collection._"
   ]
  },
  {
   "cell_type": "markdown",
   "metadata": {},
   "source": [
    "---\n",
    "# Generators and Collections<a name=\"generators-and-collections\"></a>\n",
    "在本节中，我们将重点介绍*Generators*的概念以及使用 Scala 集合作为实现它们的工具。我们将不再将 Chisel 代码视为电路的*实例*，即特定电路的描述，而是将其视为电路的生成器。\n",
    "\n",
    "我们将从之前练习中的 FIR 滤波器开始。"
   ]
  },
  {
   "cell_type": "code",
   "execution_count": null,
   "metadata": {},
   "outputs": [],
   "source": [
    "class My4ElementFir(b0: Int, b1: Int, b2: Int, b3: Int) extends Module {\n",
    "  val io = IO(new Bundle {\n",
    "    val in = Input(UInt(8.W))\n",
    "    val out = Output(UInt(8.W))\n",
    "  })\n",
    "\n",
    "  val x_n1 = RegNext(io.in, 0.U)\n",
    "  val x_n2 = RegNext(x_n1, 0.U)\n",
    "  val x_n3 = RegNext(x_n2, 0.U)\n",
    "  io.out := io.in * b0.U(8.W) + x_n1 * b1.U(8.W) +\n",
    "    x_n2 * b2.U(8.W) + x_n3 * b3.U(8.W)\n",
    "}\n"
   ]
  },
  {
   "cell_type": "markdown",
   "metadata": {},
   "source": [
    "这个电路是生成器的一个简单例子，因为它可以生成具有不同系数的这个 4-tap 滤波器的不同版本。但如果我们希望电路有更多的 tap 该怎么办？我们将分几个步骤来实现这一点。\n",
    "\n",
    "- 构建一个软件的 *Golden Model* 用于 tap 可配置的 FIR。\n",
    "- 重新设计我们的测试以使用这个模型，并确认它工作正常。\n",
    "- 重构我们的 My4ElementFir 以允许可配置的 tap 数量。\n",
    "- 使用我们的新测试平台测试新电路。\n",
    "\n",
    "<span style=\"color:blue\">**示例：FIR Golden Model**</span><br><a name=\"fir-golden-model\"></a>\n",
    "下面是一个 FIR 电路的 Scala 软件实现。"
   ]
  },
  {
   "cell_type": "code",
   "execution_count": null,
   "metadata": {},
   "outputs": [],
   "source": [
    "/**\n",
    "  * A naive implementation of an FIR filter with an arbitrary number of taps.\n",
    "  */\n",
    "class ScalaFirFilter(taps: Seq[Int]) {\n",
    "  var pseudoRegisters = List.fill(taps.length)(0)\n",
    "\n",
    "  def poke(value: Int): Int = {\n",
    "    // 将新的输入值 value 插入到 pseudoRegisters 的开头，同时丢弃列表末尾的一个元素\n",
    "    // :: 是列表连接操作符，将 value 添加到现有列表的前面。\n",
    "    pseudoRegisters = value :: pseudoRegisters.take(taps.length - 1)\n",
    "    var accumulator = 0\n",
    "    for(i <- taps.indices) {\n",
    "      accumulator += taps(i) * pseudoRegisters(i)\n",
    "    }\n",
    "    accumulator\n",
    "  }\n",
    "}"
   ]
  },
  {
   "cell_type": "markdown",
   "metadata": {},
   "source": [
    "### Seq\n",
    "注意，`taps` 变成了一个 `Seq[Int]`，这意味着在构建类时，类的用户可以传递任意长度的 `Int` 序列。\n",
    "### Registers\n",
    "使用 `var pseudoRegisters = List.fill(taps.length)(0)`，我们创建了一个 `List`，该 `List` 将保存前几周期的值。选择 `List` 是因为它在语法上添加一个元素到头部并移除最后一个元素非常简单。几乎任何 Scala 集合家族的成员都可以使用。我们还将此列表初始化为全零。\n",
    "### Poke\n",
    "我们的类添加了一个 poke 函数/方法，该函数/方法模拟将新输入放入滤波器并循环时钟。\n",
    "### Updating the registers\n",
    "这行 `pseudoRegisters = value :: pseudoRegisters.take(taps.length - 1)` 首先使用列表的 `take` 方法保留列表中除最后一个元素之外的所有元素，然后使用 `::` 列表连接运算符将 `value` 添加到列表缩减版的头部。\n",
    "### Computing the output\n",
    "一个带有累加器的简单 for 循环将列表中的每个元素乘以其对应的 tap 系数并求和。只有 `accumulator` 的那一行返回该值作为函数结果。\n",
    "## Adapting our previous test for testing our golden model\n",
    "我们现在将使用之前的工作来确认我们的 golden model 是否正常工作。一些编辑魔法将我们以前的测试平台变成了……"
   ]
  },
  {
   "cell_type": "code",
   "execution_count": null,
   "metadata": {},
   "outputs": [],
   "source": [
    "val filter = new ScalaFirFilter(Seq(1, 1, 1, 1))\n",
    "\n",
    "var out = 0\n",
    "\n",
    "out = filter.poke(1)\n",
    "println(s\"out = $out\")\n",
    "assert(out == 1)  // 1, 0, 0, 0\n",
    "\n",
    "out = filter.poke(4)\n",
    "assert(out == 5)  // 4, 1, 0, 0\n",
    "println(s\"out = $out\")\n",
    "\n",
    "out = filter.poke(3)\n",
    "assert(out == 8)  // 3, 4, 1, 0\n",
    "println(s\"out = $out\")\n",
    "\n",
    "out = filter.poke(2)\n",
    "assert(out == 10)  // 2, 3, 4, 1\n",
    "println(s\"out = $out\")\n",
    "\n",
    "out = filter.poke(7)\n",
    "assert(out == 16)  // 7, 2, 3, 4\n",
    "println(s\"out = $out\")\n",
    "\n",
    "out = filter.poke(0)\n",
    "assert(out == 12)  // 0, 7, 2, 3\n",
    "println(s\"out = $out\")"
   ]
  },
  {
   "cell_type": "markdown",
   "metadata": {},
   "source": [
    "执行前面的代码块可以证明，我们的软件模型返回的结果与 My4ElementFir 一致。"
   ]
  },
  {
   "cell_type": "markdown",
   "metadata": {},
   "source": [
    "## Test circuit using the golden model.<a name=\"use-golden-model-as-test\"></a>\n",
    "既然我们对我们的 golden model 充满信心，我们就可以重写我们的测试，将电路输出与 golden model 的输出进行比较，而不是使用费力手工制作的示例。以下是快速实现的初步尝试。"
   ]
  },
  {
   "cell_type": "code",
   "execution_count": null,
   "metadata": {},
   "outputs": [],
   "source": [
    "val goldenModel = new ScalaFirFilter(Seq(1, 1, 1, 1))\n",
    "\n",
    "test(new My4ElementFir(1, 1, 1, 1)) { c =>\n",
    "    for(i <- 0 until 100) {\n",
    "        val input = scala.util.Random.nextInt(8)\n",
    "\n",
    "        val goldenModelResult = goldenModel.poke(input)\n",
    "\n",
    "        c.io.in.poke(input.U)\n",
    "\n",
    "        c.io.out.expect(goldenModelResult.U, s\"i $i, input $input, gm $goldenModelResult, ${c.io.out.peek().litValue}\")\n",
    "\n",
    "        c.clock.step(1)\n",
    "    }\n",
    "\n",
    "}\n"
   ]
  },
  {
   "cell_type": "markdown",
   "metadata": {},
   "source": [
    "我们的测试运行了 100 个周期，并在每一步检查硬件和软件这两种不同方法是否同步。\n",
    "\n",
    "### 需要注意的事项\n",
    "（即，我们在编写此内容时实际犯的错误。）\n",
    "\n",
    "1. 将 step 放在正确的位置。软件和硬件执行的方式不同；很容易出错。\n",
    "2. 此测试较弱，因为它对 IO 和寄存器的大小非常敏感。实现一个在任意数据位宽上观察环绕行为的软件 golden model 可能会很复杂。在这里，我们只是确保传入的值是合适的。"
   ]
  },
  {
   "cell_type": "markdown",
   "metadata": {},
   "source": [
    "<span style=\"color:blue\">**示例：参数化 FIR 生成器**</span><br><a name=\"fir-golden-model\"></a> \n",
    "下面我们创建了一个新的 Filter 类 `MyManyElementsFilter`，它接受一个用于 taps 的常量 `Seq`。这个列表可以包含任意数量的元素。为了更好地测量，还添加了一个 `bitWidth`，允许我们控制电路可以处理的数字大小。针对可变长度，我们不得不重构寄存器的创建方式及其连接方式。下面的方法使用了可用库集合函数的一个简单子集。后续章节将展示如何更简洁地表达行为，并使发生的事情更清晰。"
   ]
  },
  {
   "cell_type": "code",
   "execution_count": null,
   "metadata": {},
   "outputs": [],
   "source": [
    "class MyManyElementFir(consts: Seq[Int], bitWidth: Int) extends Module {\n",
    "  val io = IO(new Bundle {\n",
    "    val in = Input(UInt(bitWidth.W))\n",
    "    val out = Output(UInt(bitWidth.W))\n",
    "  })\n",
    "\n",
    "  val regs = mutable.ArrayBuffer[UInt]()\n",
    "  for(i <- 0 until consts.length) {\n",
    "      if(i == 0) regs += io.in\n",
    "      else       regs += RegNext(regs(i - 1), 0.U)\n",
    "  }\n",
    "  \n",
    "  val muls = mutable.ArrayBuffer[UInt]()\n",
    "  for(i <- 0 until consts.length) {\n",
    "      muls += regs(i) * consts(i).U\n",
    "  }\n",
    "\n",
    "  val scan = mutable.ArrayBuffer[UInt]()\n",
    "  for(i <- 0 until consts.length) {\n",
    "      if(i == 0) scan += muls(i)\n",
    "      else scan += muls(i) + scan(i - 1)\n",
    "  }\n",
    "\n",
    "  io.out := scan.last\n",
    "}"
   ]
  },
  {
   "cell_type": "markdown",
   "metadata": {},
   "source": [
    "#### 我们是如何做到的\n",
    "从第 7 行、第 13 行和第 18 行开始，有三个并行部分。\n",
    "我们使用了一种 Scala 集合类型，称为 `ArrayBuffer`。\n",
    "`ArrayBuffer` 允许你使用 `+=` 操作符追加元素（也可以插入和删除元素，但我们不需要这些）。\n",
    "首先，我们创建一个元素为 `UInt` 的 ArrayBuffer `regs`。\n",
    "然后遍历 taps，将输入作为第一个元素添加，然后使用 `RegNext` 创建寄存器，将寄存器的输入连接到前一个元素（`regs(i-1)`），并将其初始化为无符号零（`0.U`）。\n",
    "这些寄存器将根据需要保存输入的先前值。\n",
    "\n",
    "接下来，我们创建另一个 `UInt` 类型的 ArrayBuffer `muls`。\n",
    "`muls` 的每个元素将是一个节点，其第 i 个元素是 `regs(i)` 和 `const(i)` 的乘积。\n",
    "\n",
    "注意 `scan.last` 方法的使用。\n",
    "它获取集合的最后一个元素，是在构建 `regs` 时使用 `regs(i - 1)` 的更优雅的替代方法。"
   ]
  },
  {
   "cell_type": "markdown",
   "metadata": {},
   "source": [
    "### 它的行为与 `My4ElementFir` 一样吗？\n",
    "对新版本的一个很好的初步测试是看它是否能通过我们刚刚应用于 `My4ElementFir` 的测试。我们创建一个 `MyManyElementFir` 的实例，并通过它运行更多的数据。"
   ]
  },
  {
   "cell_type": "code",
   "execution_count": null,
   "metadata": {},
   "outputs": [],
   "source": [
    "val goldenModel = new ScalaFirFilter(Seq(1, 1, 1, 1))\n",
    "\n",
    "test(new MyManyElementFir(Seq(1, 1, 1, 1), 8)) { c =>\n",
    "    for(i <- 0 until 100) {\n",
    "      val input = scala.util.Random.nextInt(8)\n",
    "\n",
    "      val goldenModelResult = goldenModel.poke(input)\n",
    "\n",
    "      c.io.in.poke(input.U)\n",
    "\n",
    "      c.io.out.expect(goldenModelResult.U, s\"i $i, input $input, gm $goldenModelResult, ${c.io.out.peek().litValue}\")\n",
    "\n",
    "      c.clock.step(1)\n",
    "    }\n",
    "}"
   ]
  },
  {
   "cell_type": "markdown",
   "metadata": {},
   "source": [
    "### 现在我们来测试一组不同大小的 FIR 滤波器\n",
    "我们创建一些辅助函数：`r` 用于获取一个随机数；`runOneTest` 用于为特定的一组 taps 创建一个 golden model 和硬件仿真滤波器，然后通过滤波器运行至少两倍于 taps 数量的数据。"
   ]
  },
  {
   "cell_type": "code",
   "execution_count": null,
   "metadata": {},
   "outputs": [],
   "source": [
    "/** a convenience method to get a random integer\n",
    "  */\n",
    "def r(): Int = {\n",
    "  scala.util.Random.nextInt(1024)\n",
    "}\n",
    "\n",
    "/**\n",
    "  * run a test comparing software and hardware filters\n",
    "  * run for at least twice as many samples as taps\n",
    "  */\n",
    "def runOneTest(taps: Seq[Int]) {\n",
    "    val goldenModel = new ScalaFirFilter(taps)\n",
    "\n",
    "    test(new MyManyElementFir(taps, 32)) { c =>\n",
    "        for(i <- 0 until 2 * taps.length) {\n",
    "            val input = r()\n",
    "\n",
    "            val goldenModelResult = goldenModel.poke(input)\n",
    "\n",
    "            c.io.in.poke(input.U)\n",
    "\n",
    "            c.io.out.expect(goldenModelResult.U, s\"i $i, input $input, gm $goldenModelResult, ${c.io.out.peek().litValue}\")\n",
    "\n",
    "            c.clock.step(1)\n",
    "        }\n",
    "    }\n",
    "}\n",
    "\n",
    "for(tapSize <- 2 until 100 by 10) {\n",
    "    val taps = Seq.fill(tapSize)(r())  // create a sequence of random coefficients\n",
    "\n",
    "    runOneTest(taps)\n",
    "}"
   ]
  },
  {
   "cell_type": "markdown",
   "metadata": {},
   "source": [
    "### Just for fun, let's make a bigger one\n",
    "以下代码将在一个 500 tap 的 FIR 滤波器上运行单个测试。运行可能需要一分钟左右。\n",
    "（提示：当执行完成时，注意工具栏上的 Scala ● 变为 Scala ○。）"
   ]
  },
  {
   "cell_type": "code",
   "execution_count": null,
   "metadata": {},
   "outputs": [],
   "source": [
    "runOneTest(Seq.fill(500)(r()))"
   ]
  },
  {
   "cell_type": "markdown",
   "metadata": {},
   "source": [
    "# Hardware Collections\n",
    "\n",
    "<span style=\"color:blue\">**Example: Add run-time configurable taps to our FIR**</span><br>\n",
    "以下代码向我们的 FIR 生成器的 IO 添加了一个额外的 `consts` 向量，允许在电路生成后从外部更改系数。这是通过 Chisel 集合类型 `Vec` 完成的。\n",
    "`Vec` 支持许多 Scala 集合方法，但它只能包含 Chisel 硬件元素。\n",
    "`Vec` 应仅在普通 Scala 集合不起作用的情况下使用。\n",
    "基本上这是在以下两种情况下之一：\n",
    "1. 在 Bundle 中需要元素的集合（collection），通常是将用作 IO 的 Bundle。\n",
    "2. 你需要通过作为硬件一部分的索引访问集合（想想寄存器文件）。（译者注：Vec 主要在需要通过硬件索引访问元素的情况下使用，比如寄存器文件。如果不需要动态索引，而只是简单地按顺序处理元素，可以使用 Seq 或其他 Scala 集合）"
   ]
  },
  {
   "cell_type": "code",
   "execution_count": null,
   "metadata": {},
   "outputs": [],
   "source": [
    "class MyManyDynamicElementVecFir(length: Int) extends Module {\n",
    "  val io = IO(new Bundle {\n",
    "    val in = Input(UInt(8.W))\n",
    "    val out = Output(UInt(8.W))\n",
    "    val consts = Input(Vec(length, UInt(8.W)))\n",
    "  })\n",
    "\n",
    "  // Reference solution\n",
    "  val regs = RegInit(VecInit(Seq.fill(length - 1)(0.U(8.W))))\n",
    "  for(i <- 0 until length - 1) {\n",
    "      if(i == 0) regs(i) := io.in\n",
    "      else       regs(i) := regs(i - 1)\n",
    "  }\n",
    "  \n",
    "  val muls = Wire(Vec(length, UInt(8.W)))\n",
    "  for(i <- 0 until length) {\n",
    "      if(i == 0) muls(i) := io.in * io.consts(i)\n",
    "      else       muls(i) := regs(i - 1) * io.consts(i)\n",
    "  }\n",
    "\n",
    "  val scan = Wire(Vec(length, UInt(8.W)))\n",
    "  for(i <- 0 until length) {\n",
    "      if(i == 0) scan(i) := muls(i)\n",
    "      else scan(i) := muls(i) + scan(i - 1)\n",
    "  }\n",
    "\n",
    "  io.out := scan(length - 1)\n",
    "}"
   ]
  },
  {
   "cell_type": "code",
   "execution_count": null,
   "metadata": {},
   "outputs": [],
   "source": [
    "val goldenModel = new ScalaFirFilter(Seq(1, 1, 1, 1))\n",
    "\n",
    "test(new MyManyDynamicElementVecFir(4)) { c =>\n",
    "    c.io.consts(0).poke(1.U)\n",
    "    c.io.consts(1).poke(1.U)\n",
    "    c.io.consts(2).poke(1.U)\n",
    "    c.io.consts(3).poke(1.U)\n",
    "    for(i <- 0 until 100) {\n",
    "        val input = scala.util.Random.nextInt(8)\n",
    "\n",
    "        val goldenModelResult = goldenModel.poke(input)\n",
    "\n",
    "        c.io.in.poke(input.U)\n",
    "\n",
    "        c.io.out.expect(goldenModelResult.U, s\"i $i, input $input, gm $goldenModelResult, ${c.io.out.peek().litValue}\")\n",
    "\n",
    "        c.clock.step(1)\n",
    "    }\n",
    "}\n"
   ]
  },
  {
   "cell_type": "markdown",
   "metadata": {},
   "source": [
    "<span style=\"color:red\">**Exercise: 32-bit RISC-V Processor**</span><br><a name=\"fir-golden-model\"></a>\n",
    "\n",
    "[寄存器文件](https://en.wikipedia.org/wiki/Register_file) 是构建处理器的重要组成部分。寄存器文件是一个寄存器数组，可以通过多个读或写端口进行读取或写入。每个端口由一个地址和数据字段组成。\n",
    "\n",
    "[RISC-V 指令集架构](https://riscv.org/specifications/) 定义了几种变体，其中最简单的称为 RV32I。RV32I 有一个大小为 32 的 32 位寄存器数组。\n",
    "**从索引为 0（第一个寄存器）的寄存器读取时，该寄存器始终为零，无论写入什么内容**（方便使用零）。\n",
    "\n",
    "为 RV32I 实现一个具有单写端口和参数化读端口数量的寄存器文件。当 `wen`（写使能）被置位时才执行写操作。"
   ]
  },
  {
   "cell_type": "code",
   "execution_count": null,
   "metadata": {},
   "outputs": [],
   "source": [
    "class RegisterFile(readPorts: Int) extends Module {\n",
    "    require(readPorts >= 0)\n",
    "    val io = IO(new Bundle {\n",
    "        val wen   = Input(Bool())\n",
    "        val waddr = Input(UInt(5.W))\n",
    "        val wdata = Input(UInt(32.W))\n",
    "        val raddr = Input(Vec(readPorts, UInt(5.W)))\n",
    "        val rdata = Output(Vec(readPorts, UInt(32.W)))\n",
    "    })\n",
    "    \n",
    "    // A Register of a vector of UInts\n",
    "    val reg = RegInit(VecInit(Seq.fill(32)(0.U(32.W))))\n",
    "    \n",
    "    ???\n",
    "\n",
    "    \n",
    "}"
   ]
  },
  {
   "cell_type": "code",
   "execution_count": null,
   "metadata": {},
   "outputs": [],
   "source": [
    "test(new RegisterFile(2) ) { c =>\n",
    "  def readExpect(addr: Int, value: Int, port: Int = 0): Unit = {\n",
    "    c.io.raddr(port).poke(addr.U)\n",
    "    c.io.rdata(port).expect(value.U)\n",
    "  }\n",
    "  def write(addr: Int, value: Int): Unit = {\n",
    "    c.io.wen.poke(true.B)\n",
    "    c.io.wdata.poke(value.U)\n",
    "    c.io.waddr.poke(addr.U)\n",
    "    c.clock.step(1)\n",
    "    c.io.wen.poke(false.B)\n",
    "  }\n",
    "  // everything should be 0 on init\n",
    "  for (i <- 0 until 32) {\n",
    "    readExpect(i, 0, port = 0)\n",
    "    readExpect(i, 0, port = 1)\n",
    "  }\n",
    "\n",
    "  // write 5 * addr + 3\n",
    "  for (i <- 0 until 32) {\n",
    "    write(i, 5 * i + 3)\n",
    "  }\n",
    "\n",
    "  // check that the writes worked\n",
    "  for (i <- 0 until 32) {\n",
    "    readExpect(i, if (i == 0) 0 else 5 * i + 3, port = i % 2)\n",
    "  }\n",
    "}"
   ]
  },
  {
   "cell_type": "markdown",
   "metadata": {},
   "source": [
    "<div id=\"container\"><section id=\"accordion\"><div>\n",
    "<input type=\"checkbox\" id=\"check-1\" />\n",
    "<label for=\"check-1\"><strong>Solution</strong></label>\n",
    "<article>\n",
    "<pre style=\"background-color:#f7f7f7\">\n",
    "    when (io.wen) {\n",
    "        reg(io.waddr) := io.wdata\n",
    "    }\n",
    "    for (i &lt;- 0 until readPorts) {\n",
    "        when (io.raddr(i) === 0.U) {\n",
    "            io.rdata(i) := 0.U\n",
    "        } .otherwise {\n",
    "            io.rdata(i) := reg(io.raddr(i))\n",
    "        }\n",
    "    }\n",
    "\n",
    "</pre></article></div></section></div>"
   ]
  },
  {
   "cell_type": "markdown",
   "metadata": {},
   "source": [
    "---\n",
    "# You're done!\n",
    "\n",
    "[Return to the top.](#top)"
   ]
  }
 ],
 "metadata": {
  "kernelspec": {
   "display_name": "Scala",
   "language": "scala",
   "name": "scala"
  },
  "language_info": {
   "codemirror_mode": "text/x-scala",
   "file_extension": ".scala",
   "mimetype": "text/x-scala",
   "name": "scala",
   "nbconvert_exporter": "script",
   "version": "2.12.10"
  }
 },
 "nbformat": 4,
 "nbformat_minor": 2
}
